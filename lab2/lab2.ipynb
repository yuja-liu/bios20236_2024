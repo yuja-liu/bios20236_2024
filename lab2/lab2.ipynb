{
 "cells": [
  {
   "cell_type": "markdown",
   "id": "ad9e93bf-34da-4e16-91d7-67b8d585a475",
   "metadata": {},
   "source": [
    "# Lab 2 Diverse Dynamics of One-Node Motifs\n",
    "\n",
    "> Yujia, Ethan, and Vincent adapted from materials developed by Diane and Elizabeth\n",
    "> \n",
    "> 2024/3/28 (Week 2)\n",
    "\n",
    "Edit this document directly. As you go through the notebooks you will find numbered questions. Please answer in the cells provided. \n",
    "   \n",
    "This is an individual assignment, but you are allowed (encouraged!) to work together in groups and discuss coding and\n",
    "answers. That said, you are responsible for all the material in this laboratory assignment. **DO NOT\n",
    "COPY from anyone that you work with.** You are **NOT** allowed to share code. You need to write the code\n",
    "and answer the questions yourself. Try the coding yourself first before seeking help.\n",
    "\n",
    "<div class=\"alert alert-info\" role=\"alert\">\n",
    "    \n",
    "__Total Points 20__\n",
    "\n",
    "__Due: 4/4 Thursday 1:30 pm__ -- by the start of your first lab session in week 3.\n",
    "</div>\n",
    "\n",
    "If you have any questions, please do not hesitate to ask. You can find the emails and office hours of your instructors and TAs on Canvas. Best of luck!\n",
    "\n",
    "Feel free to go to the Quantitative Biosciences Center for help! \n",
    "[https://college.uchicago.edu/academics/quantitative-biosciences-center](https://college.uchicago.edu/academics/quantitative-biosciences-center)\n"
   ]
  },
  {
   "cell_type": "markdown",
   "id": "c80663e0",
   "metadata": {},
   "source": [
    "\n",
    "### Copy from your pre-lab code \n",
    "\n",
    "You have created the right-hand side (RHS) for the ODE that describes three one-node motifs,\n",
    "the simply regulated gene, and the negatively and positively autoregulated gene in the prelab.\n",
    "\n",
    "In this laboratory you will call the 1D-ODEs you created – we\n",
    "will further explore the dynamics of the three one-node systems.\n",
    "\n",
    "Run the cell below to import libraries. Copy-and-paste the three RHS functions from your prelab notebook and run them"
   ]
  },
  {
   "cell_type": "code",
   "execution_count": 1,
   "id": "3f665c89",
   "metadata": {
    "scrolled": true
   },
   "outputs": [],
   "source": [
    "#Import Libraries Here\n",
    "import numpy as np\n",
    "import matplotlib.pyplot as plt\n",
    "from scipy.integrate import odeint\n"
   ]
  },
  {
   "cell_type": "code",
   "execution_count": 1,
   "id": "170f4f95",
   "metadata": {},
   "outputs": [],
   "source": [
    "# Copy your RHS equations from the prelab here\n"
   ]
  },
  {
   "cell_type": "markdown",
   "id": "7c84311d",
   "metadata": {},
   "source": [
    "## Part 1 Plot the solutions for a variety of initial conditions and parameters\n",
    "\n",
    "We will explore the behavior of our simply regulated, negatively, and positively autoregulated gene motifs by altering   \n",
    "1) initial conditions (will the final steady state value change based on where you start?) and    \n",
    "2) parameter values (will changing degradation and production rates alter steady state value?).\n",
    "\n",
    "We will alter the initial conditions and parameter values for each of the 1-node systems.\n",
    "\n",
    "<h3 style=\"color:blue;\">Tasks for Part 1</h3>\n",
    "\n",
    "Naturally, the three motifs are parameterized in the same way as described in the prelab.\n",
    "Please use the parameter values below"
   ]
  },
  {
   "cell_type": "markdown",
   "id": "65f93cd9",
   "metadata": {},
   "source": [
    "__Simply regulated gene__\n",
    "\n",
    "$$\n",
    "\\begin{align}\n",
    "\\alpha &= 1\\qquad\\text{Degradation rate in units of 1/time}\\\\ \n",
    "\\beta &= 2\\qquad\\text{Production rate in units of concentration/time}\n",
    "\\end{align}\n",
    "$$\n",
    "   \n",
    "__Positively or negatively autoregulated gene__\n",
    "\n",
    "$$\n",
    "\\begin{align}\n",
    "\\beta_0 &= 0.2\\qquad\\text{Basal production rate of X in units of concentration/time}\\\\   \n",
    "\\beta &= 3.6\\qquad\\text{Maximum regulated production rate in units of concentration/time}\\\\\n",
    "K &= 2\\qquad\\text{Concentration of X at half-maximum production rate. Similar to }K_M\n",
    "\\text{ in Michaelis-Menten kinetics. In units of concentration}\\\\\n",
    "n &= 6\\qquad\\text{The Hill coefficient, or the cooperativity if one takes a mechanistic view. Unitless}\\\\\n",
    "\\alpha &= 1\\qquad\\text{Degradation rate in units of 1/time}\n",
    "\\end{align}\n",
    "$$\n"
   ]
  },
  {
   "cell_type": "markdown",
   "id": "f8311b4c",
   "metadata": {
    "jp-MarkdownHeadingCollapsed": true
   },
   "source": [
    "__1.1__ Try different initial conditions or parameters for the three motifs.\n",
    "\n",
    "You will repeat these \"experiments\" over the three motifs (the simply regulated gene and the negatively and positively autoregulated gene)\n",
    "which means that in each section a)-c) you will have three subplots corresponding to the three motifs.\n",
    "\n",
    "Please include title (e.g. Simply regulated gene), axis labels, and a legend for your figures.\n",
    "\n",
    "__1.1 a)__ Overlay a series of curves with initial concentration of X spanning from 0 to 6 in steps of 0.3 concentration units. Repeat for the three motifs.\n",
    "\n",
    "Integrate until $t = 6$ with 100 evenly spaced time points. You don't have to include legend since there are too many curves. \n",
    "\n",
    "You can use `plt.subplots` function to create multi-panel figures. Check out the example below\n",
    "\n",
    "- The syntax is `p, axes = plt.subplot(nrows, ncols)` where `nrows` is the number of subplots in a row and `ncols` is the number of subplots in a column.\n",
    "- `axes` is a list of handles to the subplot. You can index it like `axes[0]`, `axes[1]`, ... to get a handle for the first panel, the second panel, etc.\n",
    "- To plot on the ith subplot, you should call `axes[i].plot(something)`. Similarly, you can change the axis limits, labels, title and etc. of each subplot. Though, to change the settings is a bit different now e.g. you should use `axes[i].set_xlabel` instead of `plt.xlabel`.\n",
    "\n",
    "It'd be great if you get familiar with making subplots though you don't have to right now! If you're more comfortable plotting them separately that's also perfectly fine."
   ]
  },
  {
   "cell_type": "code",
   "execution_count": 74,
   "id": "e9484631-6a82-47be-a076-01a25d0536cc",
   "metadata": {},
   "outputs": [
    {
     "data": {
      "image/png": "[encoded data removed]",
      "text/plain": [
       "<Figure size 1200x300 with 3 Axes>"
      ]
     },
     "metadata": {},
     "output_type": "display_data"
    }
   ],
   "source": [
    "# An example for making subplots\n",
    "\n",
    "p, axes = plt.subplots(1, 3, figsize=(12, 3))\n",
    "\n",
    "x_vec = np.linspace(0, 6, 100)\n",
    "\n",
    "axes[0].plot(x_vec, x_vec - 3, color=\"red\")\n",
    "axes[0].set_title(\"Linear\")\n",
    "\n",
    "axes[1].plot(x_vec, (x_vec - 3)**2, color=\"black\")\n",
    "axes[1].set_title(\"Quadratic\")\n",
    "\n",
    "axes[2].plot(x_vec, (x_vec - 3)**3 -(x_vec - 3), color=\"green\")\n",
    "axes[2].set_title(\"Cubic\")\n",
    "\n",
    "for i in range(3):\n",
    "    axes[i].set_ylim([-3, 3])\n",
    "\n",
    "plt.show(p)"
   ]
  },
  {
   "cell_type": "code",
   "execution_count": 2,
   "id": "a92c3cdc",
   "metadata": {},
   "outputs": [],
   "source": [
    "# Fixed parameters\n",
    "alpha = 1\n",
    "beta = 2    # simply regulated motif\n",
    "beta_0 = .2\n",
    "beta_2 = 3.6    # neg/pos autoregulated motif\n",
    "K = 2\n",
    "n = 6\n",
    "\n",
    "# your solution 1.1 a)\n",
    "\n"
   ]
  },
  {
   "cell_type": "markdown",
   "id": "58bfb944",
   "metadata": {},
   "source": [
    "__1.1 b)__ Alter production rates – choose three different values of $\\beta$ for the simply regulated gene and then\n",
    "choose three different values of $\\beta_0$ for the positive or negatively autoregulated gene.\n",
    "\n",
    "Use the same time span as a). Initial value $X(0) = 0$.\n",
    "\n",
    "Please include a legend showing the value of the parameter that you've changed to. You don't have to worry about the positioning because by default python will try to find a \"best\" location for the legend that doesn't get in the way of your curves."
   ]
  },
  {
   "cell_type": "code",
   "execution_count": 3,
   "id": "d8f68f2a",
   "metadata": {},
   "outputs": [],
   "source": [
    "# Fixed parameters\n",
    "alpha = 1\n",
    "\n",
    "\n",
    "beta_2 = 3.6    # neg/pos autoregulated motif\n",
    "K = 2\n",
    "n = 6\n",
    "\n",
    "# your solution 1.1 b)\n",
    "\n"
   ]
  },
  {
   "cell_type": "markdown",
   "id": "b577729a",
   "metadata": {},
   "source": [
    "__1.1 c)__ Alter degradation rates – choose 3 different values and repeat over the three motifs\n",
    "\n",
    "Use the same time span as a). Initial value $X(0) = 0$.\n",
    "\n",
    "Please include a legend showing the value of the parameter that you've changed to. "
   ]
  },
  {
   "cell_type": "code",
   "execution_count": 4,
   "id": "efd9899b",
   "metadata": {},
   "outputs": [],
   "source": [
    "# Fixed parameters\n",
    "\n",
    "beta = 2    # simply regulated motif\n",
    "beta_0 = .2\n",
    "beta_2 = 3.6    # neg/pos autoregulated motif\n",
    "K = 2\n",
    "n = 6\n",
    "\n",
    "# your solution 1.1 c)\n",
    "\n"
   ]
  },
  {
   "cell_type": "markdown",
   "id": "6be0f09a",
   "metadata": {},
   "source": [
    "You should have a total of 9 graphs.\n",
    "3 graphs for the simply regulated motif, 3 graphs for the negatively autoregulated motif, and 3 graphs for the positively autoregulated motif. Each of the 9 graphs will have 3 curves on it."
   ]
  },
  {
   "cell_type": "markdown",
   "id": "e90a4b12",
   "metadata": {},
   "source": [
    "__1.2__ What happens when you choose different initial concentrations for X for each of the network motifs? Discuss and compare the differences and/or similarities between the 3 network motifs."
   ]
  },
  {
   "cell_type": "markdown",
   "id": "baa1ec50-461b-45a9-8c55-4d812a5ae425",
   "metadata": {},
   "source": [
    "__Edit this cell to include your answer__\n",
    "\n"
   ]
  },
  {
   "cell_type": "markdown",
   "id": "6d5025b6-a52e-4693-89bd-e9473d6c22de",
   "metadata": {},
   "source": [
    "__1.3__ What happens if you change production or degradation rates for each of the network motifs? Discuss and compare the differences and/or similarities between the 3 network motifs."
   ]
  },
  {
   "cell_type": "markdown",
   "id": "1db17115-1f8c-4cf0-a129-72902e0aa34e",
   "metadata": {},
   "source": [
    "__Edit this cell to include your answer__\n",
    "\n"
   ]
  },
  {
   "cell_type": "markdown",
   "id": "a4bd67af",
   "metadata": {},
   "source": [
    "## Part 2 Flux Balance Analysis\n",
    "\n",
    "You will NOT use the ODE solver for this section – you are investigating the flux terms specified in the RHS of the ODE for the 3 network motifs- simply regulated, negatively, and positively autoregulated.\n",
    "You will investigate how the production and degradation terms change as a function of [X].   \n",
    "\n",
    "Break the RHS of your ODE into two separate terms: a production and degradation term (functions of X). \n",
    "\n",
    "<h3 style=\"color:blue;\">Tasks for Part 2</h3>\n",
    "\n",
    "__2.1__ Define Python functions for the fluxes\n",
    "\n",
    "Define three functions that each return (1) the production rate of the negatively autoregulated motif, (2) the production rate of the positively autoregulated motif, and (3) the degradation rate (pos. and neg. motifs share the same function). All three are functions of $X$ and parameters, e.g. it may take the form of\n",
    "\n",
    "```python\n",
    "my_rate(x, param1, param2, ...)\n",
    "```"
   ]
  },
  {
   "cell_type": "code",
   "execution_count": 5,
   "id": "791c0cea",
   "metadata": {},
   "outputs": [],
   "source": [
    "# your solution 2.1\n",
    "\n"
   ]
  },
  {
   "cell_type": "markdown",
   "id": "9854d880-d110-4d42-b4d0-64bdf577ce35",
   "metadata": {},
   "source": [
    "__2.2__ Plot the production rate, the degradation rate and the RHS as a function of $X$ for EACH of the network motifs.\n",
    "\n",
    "Obviously, the RHS is just the sum of the production rate and the degradation rate.\n",
    "\n",
    "Plot all 3 lines on the same graph (RHS, Production, and Degradation on one graph for EACH network motif). \n",
    "Plot the production flux as a green solid line, the degradation flux as a red solid line, and the RHS as a black dashed line.\n",
    "You should have a total of 3 graphs.\n",
    "It is recommended to use the subplot technique that you've met in Part 1. \n",
    "\n",
    "Use the same parameters as task 1.1 a). You can use $X$ from 0 to 6 for the plots."
   ]
  },
  {
   "cell_type": "code",
   "execution_count": 6,
   "id": "f070d0ae",
   "metadata": {},
   "outputs": [],
   "source": [
    "# Fixed parameters\n",
    "alpha = 1\n",
    "beta = 2    # simply regulated motif\n",
    "beta_0 = .2\n",
    "beta_2 = 3.6    # neg/pos autoregulated motif\n",
    "K = 2\n",
    "n = 6\n",
    "\n",
    "# your solution 2.2\n",
    "\n"
   ]
  },
  {
   "cell_type": "markdown",
   "id": "e260454d-ad86-4767-85c3-806f146db68c",
   "metadata": {},
   "source": [
    "__2.3__ Based on the flux balance plots in 2.1, how many steady states does each motif have? Where are they on the graphs (you don't have to answer quantitatively)?"
   ]
  },
  {
   "cell_type": "markdown",
   "id": "cea3a686-d458-4822-ac62-1dfe72e515df",
   "metadata": {},
   "source": [
    "__Edit this cell to include your answer__\n",
    "\n"
   ]
  },
  {
   "cell_type": "markdown",
   "id": "de57fc44-db16-43d1-b0f9-f3367e42783e",
   "metadata": {},
   "source": [
    "What can happen to the steady states of the positively autoregulated system if the production curve shifts to the right\n",
    "or shifts upwards? You can think about it but you don't have to write down the answer. \n",
    "\n",
    "We will walk you through how to think about this kind of question in Part 3."
   ]
  },
  {
   "cell_type": "markdown",
   "id": "8b8bf0a1-1ff6-4c83-a11d-cd01423c85c6",
   "metadata": {},
   "source": [
    "## Part 3 Qualitatively Different Dynamics of a Positively Autoregulated Gene\n",
    "\n",
    "In Part 1 and 2 you should have noticed that the positively autoregulated motif shows a very different dynamics compared\n",
    "to the simply regulated or the negatively autoregulated one:\n",
    "The positively autoregulated gene can arrive at two different steady states depending on the initial condition,\n",
    "a behavior known as __bistability__.\n",
    "It is an important idea that a gene/biochemical network can achieve more than one stable steady states.\n",
    "In future lectures/labs we will see more examples of how a bistable network can be quite useful in biology,\n",
    "including how bioengineers created a genetic circuit that behaves like a toggle switch,\n",
    "and how mother nature uses bistability to allow a population of bacteria to \"hedge their bet\" under stressful environments.\n",
    "\n",
    "However, bistability is not guaranteed for a positively autoregulated gene.\n",
    "You will see through numerical simulations that a positively autoregulated gene can switch between being monostable and\n",
    "bistable depending on the parameters.\n",
    "\n",
    "<h3 style=\"color:blue;\">Tasks for Part 3</h3>\n",
    "\n",
    "__3.1__ Complete the code for finding the stable steady state of an ODE given the RHS and initial condition\n",
    "(the part you need to complete shows as `complete the code`)."
   ]
  },
  {
   "cell_type": "code",
   "execution_count": null,
   "id": "3b60b687-2aa6-409a-83bf-a92319b4e579",
   "metadata": {},
   "outputs": [],
   "source": [
    "# your solution 3.1\n",
    "\n",
    "import numpy as np\n",
    "from scipy.integrate import odeint\n",
    "\n",
    "def ss(rhs, x0, args):\n",
    "    # Integrate for a long enough time\n",
    "    # One can do this more carefully because different rhs may have very different dynamics\n",
    "    # which leads to very different response times\n",
    "    # A more careful way is make the max time adaptive. Just for now though\n",
    "    # We'll use a BIG number\n",
    "    tmax = 100\n",
    "    sol = odeint(rhs, x0, np.arange(0, tmax + 0.1, 0.1), args)\n",
    "\n",
    "    tol = 1e-3\n",
    "    # Find a point in the X vector where it converges to a certain value\n",
    "    # You can find this point by asking if the change in X is sufficiently small when the system takes a step forward\n",
    "    # so small that the difference is smaller than the tolerance (tol, defined above)\n",
    "    # Note that when taking a step forward, X may increase or decrease (or stay essentially unchanged)\n",
    "    # Please complete the code to check if the system converges\n",
    "    for i in range(len(sol) - 1):    # iterate through almost all elements of X\n",
    "        # even for a 1D ODE, the solution is a 2D np array\n",
    "        x_cur = sol[i, 0]    # current X\n",
    "        x_next = sol[i + 1, 0]    # the next value of X\n",
    "        if compete the code:    # a condition satisfied when the system converges\n",
    "            return x_cur\n",
    "\n",
    "    # Otherwise, the system never converges\n",
    "    return -1    # means not converged. very unlikely in our system"
   ]
  },
  {
   "cell_type": "markdown",
   "id": "4c66d746-3e2c-49eb-87c6-b48a2050c53f",
   "metadata": {},
   "source": [
    "__3.2__ Complete the code and find the stable steady states of a positively autoregulated motif.\n",
    "\n",
    "In your \"complete the code\" section\n",
    "1. Collect the parameters including $\\beta_0$ into a tuple\n",
    "2. Use the function you've defined in 3.1 to find the steady state given 2 different initial conditions. One initial $X$ is small, 0, and the other initial $X$ is big given by `big_x`. You'll also need to pass the RHS defined previously and the tuple of parameters into the function.\n",
    "3. Append the current $\\beta_0$ into the vector `beta0_vec_new`. Append the steady state you've found starting from a small $X$ into `xss_vec`.\n",
    "4. Again, append the current $\\beta_0$ into the vector `beta0_vec_new`. Append the steady state you've found starting from a big $X$ into `xss_vec`."
   ]
  },
  {
   "cell_type": "code",
   "execution_count": null,
   "id": "c538afcd-3484-4601-8239-ae0d7e5d92ef",
   "metadata": {},
   "outputs": [],
   "source": [
    "# your solution 3.2\n",
    "\n",
    "from matplotlib import pyplot as plt\n",
    "\n",
    "# Define parameters other than beta0\n",
    "# You'll iterate over a range of different values of beta0\n",
    "alpha = 1.\n",
    "beta = 3.\n",
    "n = 6.\n",
    "K = 2.\n",
    "\n",
    "# Here is a range of different beta0\n",
    "beta0_vec = np.arange(0, 1.4 + 0.02, 0.02)\n",
    "\n",
    "# Initiate two empty vectors\n",
    "# to store each beta0 and the newly found steady state of X\n",
    "beta0_vec_new = []\n",
    "xss_vec = []\n",
    "\n",
    "# A big X to start with\n",
    "big_x = 20.\n",
    "\n",
    "for beta0 in beta0_vec:\n",
    "\n",
    "    complete the code\n",
    "\n",
    "# Plotting\n",
    "# Hint: You should see two branches as the system is bistable with a subset of the different beta0's\n",
    "plt.scatter(beta0_vec_new, xss_vec, marker='+')\n",
    "plt.xlabel(\"β₀\")\n",
    "plt.ylabel(\"Steady state of X\");"
   ]
  },
  {
   "cell_type": "markdown",
   "id": "d5f72f21-a6be-4aa6-9d25-e2c680f3e969",
   "metadata": {},
   "source": [
    "__3.3__ Eyeball the curves from 3.2 and answer roughly in what range of $\\beta_0$ the system is bistable.\n",
    "You don't have to write any code to answer this question.\n",
    "Why we call it a _bistable region_?"
   ]
  },
  {
   "cell_type": "markdown",
   "id": "5d7d5ae5-1409-4f89-bdbd-6ecf9a60fa51",
   "metadata": {},
   "source": [
    "__Edit this cell to add your answer__\n",
    "\n"
   ]
  },
  {
   "cell_type": "markdown",
   "id": "0e7d222e-030a-4d86-8b17-cfcab3e08355",
   "metadata": {},
   "source": [
    "__3.4__ Sanity check for bistability.\n",
    "\n",
    "Please plot a figure with 3 horizontally arranged panels (subplots). In each panel plot a series of trace of $X$ i.e. the numerical solution of $X$ against $t$.\n",
    "The series of $X(t)$ should start from different initial $X$ that goes from 0 to 5.\n",
    "\n",
    "Pick a different $\\beta_0$ for each panel guided by your answer in 3.3. Please pick 2 values of $\\beta_0$ where the model admits 1 stable state and 1 value of $\\beta_0$ where it admits 2 stable steady states.\n",
    "The way that each panel converges should agree with your figure in 3.2\n",
    "\n",
    "Hint: You may want to run the traces for a long enough time as the dynamics can be relatively slow!\n",
    "\n",
    "Remember to label your axes and label your title to reflect your choice of $\\beta_0$"
   ]
  },
  {
   "cell_type": "code",
   "execution_count": 7,
   "id": "4a880f12-f269-4be7-b39c-8eee939c3801",
   "metadata": {},
   "outputs": [],
   "source": [
    "# Define parameters other than beta0\n",
    "alpha = 1.\n",
    "beta = 3.\n",
    "n = 6.\n",
    "K = 2.\n",
    "\n",
    "# your solution 3.4\n",
    "\n"
   ]
  },
  {
   "cell_type": "markdown",
   "id": "e925f129-70b0-4295-b933-4478670e8b52",
   "metadata": {},
   "source": [
    "Why does the dynamics of a positively autoregulated motif change qualitatively (a jump!) when the _control parameter_\n",
    "$\\beta_0$ changes continuously?\n",
    "Let's answer the question with the help of a flux balance plot (by a plot I mean many)!\n",
    "\n",
    "__3.5__ Flux balance plot of the positively autoregulated motif.\n",
    "\n",
    "You should have defined the production rate and degradation rate of the positively autoregulated motif separately\n",
    "as a function of $X$ in task 2.1.\n",
    "\n",
    "With the help of the two functions,\n",
    "make a flux balance plot showing the production and the degradation rate as $X$ goes from 0 to 5.\n",
    "Keep the same parameter from the previous task except for $\\beta_0$.\n",
    "\n",
    "You will plot a series of production rates with $\\beta_0$ changing from 0 to 1.4 in steps of 0.2\n",
    "as solid lines and the degradation rates as a dashed line.\n",
    "Note that the degradation rate is not affected by your choice of $\\beta_0$.\n",
    "\n",
    "Label your curves. E.g., label your production rates as \"Prod β₀ = val\" and your degradation rates as \"Deg\".\n",
    "Remember to label your axes."
   ]
  },
  {
   "cell_type": "code",
   "execution_count": 8,
   "id": "36436cff-22d0-46f2-807f-b5be561eb2e9",
   "metadata": {},
   "outputs": [],
   "source": [
    "# Define parameters other than beta0\n",
    "# You'll iterate over a range of different values of beta0\n",
    "alpha = 1.\n",
    "beta = 3.\n",
    "n = 6.\n",
    "K = 2.\n",
    "\n",
    "# your solution 3.5\n",
    "\n"
   ]
  },
  {
   "cell_type": "markdown",
   "id": "1a65488f-6af0-4fdd-9f83-b41a4436ea8f",
   "metadata": {},
   "source": [
    "__3.6__ Look for the _intersection(s)_ between a production rate curve and a degradation rate curve.\n",
    "\n",
    "How many intersections do you find at each value of $\\beta_0$ as it goes from 0 to 1.4?\n",
    "\n",
    "Compare your finding to the bistability region you've discovered in 3.3. What do you find?"
   ]
  },
  {
   "cell_type": "markdown",
   "id": "66b891b9-930f-423c-8a40-50e6912ccc63",
   "metadata": {},
   "source": [
    "__Edit this cell to add your answer__\n",
    "\n"
   ]
  },
  {
   "cell_type": "markdown",
   "id": "35a1dc5f-8a6f-4003-b1c2-fc4feba38a7f",
   "metadata": {},
   "source": [
    "### Bifurcation\n",
    "\n",
    "As a control parameter (e.g. $\\beta_0$) changes continuously, something extrodinary happens to the dynamics of $X$:\n",
    "The number of stable steady states jumps suddenly from one to two or vice versa.\n",
    "You should have observed what happens near a \"jump\" from different angles:\n",
    "The trace of $X$ as a function of time changes, the steady state changes, and the intersection of the flux balance plot changes.\n",
    "\n",
    "The qualitative change in the system resulting from a continuous change in its parameter(s) is know as a __bifurcation__.\n",
    "It is a crucial concept to understand biological dynamics which we will come back to many times throughout the class."
   ]
  }
 ],
 "metadata": {
  "kernelspec": {
   "display_name": "Python 3 (ipykernel)",
   "language": "python",
   "name": "python3"
  },
  "language_info": {
   "codemirror_mode": {
    "name": "ipython",
    "version": 3
   },
   "file_extension": ".py",
   "mimetype": "text/x-python",
   "name": "python",
   "nbconvert_exporter": "python",
   "pygments_lexer": "ipython3",
   "version": "3.12.2"
  },
  "toc": {
   "base_numbering": 1,
   "nav_menu": {},
   "number_sections": true,
   "sideBar": true,
   "skip_h1_title": true,
   "title_cell": "Table of Contents",
   "title_sidebar": "Contents",
   "toc_cell": false,
   "toc_position": {},
   "toc_section_display": true,
   "toc_window_display": false
  },
  "varInspector": {
   "cols": {
    "lenName": 16,
    "lenType": 16,
    "lenVar": 40
   },
   "kernels_config": {
    "python": {
     "delete_cmd_postfix": "",
     "delete_cmd_prefix": "del ",
     "library": "var_list.py",
     "varRefreshCmd": "print(var_dic_list())"
    },
    "r": {
     "delete_cmd_postfix": ") ",
     "delete_cmd_prefix": "rm(",
     "library": "var_list.r",
     "varRefreshCmd": "cat(var_dic_list()) "
    }
   },
   "types_to_exclude": [
    "module",
    "function",
    "builtin_function_or_method",
    "instance",
    "_Feature"
   ],
   "window_display": true
  }
 },
 "nbformat": 4,
 "nbformat_minor": 5
}
