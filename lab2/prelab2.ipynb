{
 "cells": [
  {
   "cell_type": "markdown",
   "id": "c751dfc5",
   "metadata": {},
   "source": [
    "# PreLab 2 Solving Ordinary Differential Equations Numerically and One-node Network Motifs\n",
    "\n",
    "> Yujia, Ethan, and Vincent adapted from materials developed by Diane and Elizabeth\n",
    "> \n",
    "> 2024/3/28 (Week 2)\n",
    "\n",
    "Edit this document directly. As you go through the notebooks you will find numbered questions. Please answer in the cells provided. \n",
    "   \n",
    "This is an individual assignment, but you are allowed (encouraged!) to work together in groups and discuss coding and\n",
    "answers. That said, you are responsible for all the material in this laboratory assignment. **DO NOT\n",
    "COPY from anyone that you work with.** You are **NOT** allowed to share code. You need to write the code\n",
    "and answer the questions yourself. Try the coding yourself first before seeking help.\n",
    "\n",
    "<div class=\"alert alert-info\" role=\"alert\">\n",
    "    \n",
    "__Total Points 15__\n",
    "\n",
    "__Due: 3/28 Thursday 1:30 pm__ \n",
    "</div>\n",
    "\n",
    "If you have any questions, please do not hesitate to ask. You can find the emails and office hours of the instructors and TAs on Canvas. Best of luck!\n"
   ]
  },
  {
   "cell_type": "markdown",
   "id": "54a4cb63",
   "metadata": {},
   "source": [
    "### How to solve differential equations? A video demo\n",
    "\n",
    "In the prelab video we learned how to use odeint to solve differential equations. We looked at the simple example, a pool of protein that is degraded according to the equation:    \n",
    "\n",
    "$$\\frac{dX}{dt} = -\\alpha X \\tag{1}$$\n",
    "\n",
    "![degradation](https://github.com/dschnitkey/BIOS20236/blob/main/prelab2_degradation.png?raw=true)   \n",
    "    \n",
    "This description of the system doesn't directly tell us how [X] changes over time. We might want to know what [X] is after a long period of time (for a system like this with only degradation you would imagine [X] will go to 0), and how long it takes to get to steady state. To answer such questions, we need to **integrate** so we get an equation for X as a function of time, rather than  $dX/dt$ as a function of [X].   \n",
    "    \n",
    "As we discussed in lecture, some systems (including this one) can be solved analytically. Eq. 1 solves to\n",
    "   \n",
    "$$X(t) = X_0e^{-\\alpha t}\\tag{2}$$   \n",
    "\n",
    "Where $X_0$ is the initial condition, i.e. the concentration of X at time 0.\n",
    "Indeed, the concentration of X will degrade exponentially to 0 as shown in the figure below"
   ]
  },
  {
   "cell_type": "code",
   "execution_count": 128,
   "id": "18c36c45",
   "metadata": {},
   "outputs": [
    {
     "data": {
      "image/png": "[encoded data removed]",
      "text/plain": [
       "<Figure size 800x400 with 1 Axes>"
      ]
     },
     "metadata": {},
     "output_type": "display_data"
    }
   ],
   "source": [
    "import numpy as np\n",
    "from scipy.integrate import odeint\n",
    "from matplotlib import pyplot as plt\n",
    "\n",
    "x0 = 10\n",
    "alpha = 1\n",
    "t = np.linspace(0,10,100)\n",
    "x_analytical = x0*np.exp(-alpha*t)\n",
    "\n",
    "plt.figure(figsize = [8,4])\n",
    "plt.plot(t,x_analytical,'-')\n",
    "plt.xlabel(\"Time\")\n",
    "plt.ylabel(\"[X]\")\n",
    "plt.title(\"[X] over time\");"
   ]
  },
  {
   "cell_type": "markdown",
   "id": "1690dcdd",
   "metadata": {},
   "source": [
    "We will be working with equations that cannot be solved analytically, so we will instead solve them computationally. \n",
    "Computers can approximate the solution $X(t)$ using the derivative $dX/dt$.    \n",
    "\n",
    "The idea is very simple! Recall that by definition a derivative is given by\n",
    "\n",
    "$$\\left.\\frac{d}{dt}X(t)\\right\\vert_{t_0} = \\frac{X(t_1) - X(t_0)}{t_1 - t_0}$$ \n",
    "\n",
    "in the limit where $(t_1 - t_0)$ is infinitestimally small.\n",
    "\n",
    "So if you know $dX/dt$ evaluated at $t_0$, and your starting concentration of $X$, you can take a small step forward\n",
    "\n",
    "$$X(t_1) = X(t_0) + \\left.\\frac{dX}{dt}\\right\\vert_{t_0}\\cdot(t_1 - t_0) $$ \n",
    "\n",
    "Your new $X$ is the previous $X$ plus the derivative times your step size. You can repeat this over and over to estimate your curve. The smaller the step size the more accurate. \n",
    "\n",
    "The method is known as the _Euler method_. Modern differential equation integrators can pick the time interval in some smart way. They also divide each time interval into smaller ones and combine the derivatives at those intermediary time points. But these fancy algorithms all stem from this very simple idea by Euler.\n",
    "\n",
    "The animation below shows how the interative process of evaluating the derivative $dX/dt$ and taking a step forward in $X$ can approximate the solution for Eq. 1."
   ]
  },
  {
   "cell_type": "markdown",
   "id": "e7c5db0e",
   "metadata": {},
   "source": [
    "![comp_int](https://github.com/dschnitkey/BIOS20236/blob/main/CompIntegrate2.gif?raw=true)"
   ]
  },
  {
   "cell_type": "markdown",
   "id": "1ae40bec",
   "metadata": {},
   "source": [
    "Lucky for us python has a function `odeint` which will do this for us. Let's learn how to use it. \n",
    "\n",
    "\n",
    "`odeint` belongs to scipy's integrate package: [https://docs.scipy.org/doc/scipy/reference/generated/scipy.integrate.odeint.html](https://docs.scipy.org/doc/scipy/reference/generated/scipy.integrate.odeint.html)\n",
    "\n",
    "fun fact: scipy is short for \"scientfic python\" and as a result is often pronounced \"sie-pie\". Similarly numpy is short for \"numerical python\" and is often pronounced \"num-pie\". I say often because some people will call them \"skippy\" and \"numpy\" which is honestly more fun.\n",
    "\n",
    "To invoke `odeint` we will use the following form\n",
    "\n",
    "\n",
    "```python\n",
    "from scipy.integrate import odeint\n",
    "output = odeint(func, y0, t, args=())\n",
    "```\n",
    "   \n",
    "With the following arguments:\n",
    "\n",
    "1. `y0` = your initial value of x. \n",
    "2. `t` = an _array_ going from 0 to tmax, where tmax is the total time you want to simulate   \n",
    "3. `args` = remaining arguments our derivative needs. In this case, our derivative depends on $\\alpha$.\n",
    "   It must be a _tuple_, the unchangeable counterpart of a list.\n",
    "5. `func` = a function that returns your derivative $dX/dt$ i.e. the right-hand side.\n",
    "   \n",
    "**It is important that your function be of the following form**:\n",
    "    \n",
    "```python\n",
    "def func(x, t, arg1, arg2, ...):\n",
    "    do something\n",
    "    return dxdt\n",
    "```\n",
    "    \n",
    "**the order of the arguments to func is very important** first, you must give it x, the value you are trying to integrate over, then is t \n",
    "\n",
    "**your derivitives need not use t in them, you still need to list it as an input to func**, then you can add your remaining inputs.\n",
    "The interface is designed in this way to allow some ODEs to dependent explicitly on t. We won't meet any of those in this class"
   ]
  },
  {
   "cell_type": "markdown",
   "id": "8babcf9b-bad2-40b2-8bf1-dc3bc82e7218",
   "metadata": {},
   "source": [
    "Let's solve the ODE (ordinary differential equation) given by Eq. 1 numerically by `odeint` and see if it agrees with the analytical solution"
   ]
  },
  {
   "cell_type": "code",
   "execution_count": 20,
   "id": "1de98a13",
   "metadata": {},
   "outputs": [
    {
     "data": {
      "image/png": "[encoded data removed]",
      "text/plain": [
       "<Figure size 800x400 with 1 Axes>"
      ]
     },
     "metadata": {},
     "output_type": "display_data"
    }
   ],
   "source": [
    "#rhs equation\n",
    "def rhs_decay(x,t,alpha):\n",
    "    return(-alpha*x)\n",
    "\n",
    "#inital concentration\n",
    "x0 = 10\n",
    "\n",
    "#times to integrate over\n",
    "times = np.linspace(0,10,50)\n",
    "\n",
    "#arguments\n",
    "alpha = 1\n",
    "\n",
    "##arguments must be put in parenthesis like this (a tuple), even if there is only one!\n",
    "args = (alpha,)\n",
    "\n",
    "#call odeint\n",
    "x_computational = odeint(rhs_decay, x0, times, args)\n",
    "\n",
    "#plot our solution and compare to the analytical solution\n",
    "plt.figure(figsize = [8,4])\n",
    "plt.plot(t,x_analytical,'-', label = \"analytical solution\")\n",
    "plt.plot(times,x_computational,'o', label = \"numerical integration\")\n",
    "plt.xlabel(\"Time\")\n",
    "plt.ylabel(\"[X]\")\n",
    "plt.title(\"[X] over time\")\n",
    "plt.legend();"
   ]
  },
  {
   "cell_type": "markdown",
   "id": "8dd960d9",
   "metadata": {},
   "source": [
    "We see that `odeint` does a great job matching the true analytical solution! In this prelab and our lab, we will use `odeint` to solve more complex systems"
   ]
  },
  {
   "cell_type": "markdown",
   "id": "c6cfb030",
   "metadata": {},
   "source": [
    "## Part 1 Simply Regulated Gene Expression\n",
    "\n",
    "In this homework assignment, you will learn how to write a script to solve three simple 1D - ODEs in Python (1D means only one chemical species, or one variable, is involved).\n",
    "\n",
    "We will learn how to invoke Python’s built-in ODE solver and plot the results. Understanding the dynamics of a simply regulated gene is crucial to studying the more complex systems we will study later, including the circuit that controls competence in Bacillus subtilis.\n",
    "\n",
    "![simplyreggene](https://github.com/dschnitkey/BIOS20236/blob/aed523ba698b3634bd26284e91ef32278ee2e154/prelab2_simplyreggene.png?raw=true)\n"
   ]
  },
  {
   "cell_type": "code",
   "execution_count": 1,
   "id": "80e3a569",
   "metadata": {},
   "outputs": [],
   "source": [
    "# Import modules\n",
    "from scipy.integrate import odeint\n",
    "import numpy as np\n",
    "import math\n",
    "import matplotlib.pyplot as plt"
   ]
  },
  {
   "cell_type": "markdown",
   "id": "bb760b64",
   "metadata": {},
   "source": [
    "<h3 style=\"color:blue;\">Tasks for Part 1</h3>\n",
    "    \n",
    "__1.1__ Define the right-hand-side (RHS) of the ordinary differential equation (ODE) that follows the simple scheme shown in the figure above.\n",
    "\n",
    "The RHS consists of a 0th order production term and a 1st order elimination term. Namely\n",
    "\n",
    "$$\n",
    "\\frac{dX}{dt} = \\beta - \\alpha X\n",
    "$$"
   ]
  },
  {
   "cell_type": "code",
   "execution_count": 1,
   "id": "27639340",
   "metadata": {},
   "outputs": [],
   "source": [
    "# your solution 1.1\n",
    "\n"
   ]
  },
  {
   "cell_type": "markdown",
   "id": "26ef2018",
   "metadata": {},
   "source": [
    "__1.2__ Solve and plot the solution for the simply regulated gene given initial condition $X_0 = 0$\n",
    "\n",
    "Please include axis labels on your graph.\n",
    "You will use the set of parameters shown below (also included in your code chunk).\n",
    "This is crucial because you will compare different schemes of gene regulation.\n",
    "The given set of parameters make sure that the steady state is consistent.\n",
    "\n",
    "__Reaction parameters__\n",
    "\n",
    "$\\beta = 2$ in units of concentration/time\n",
    "\n",
    "$\\alpha = 1$ in units of 1/time\n",
    "\n",
    "Recall what you've learned from the 2nd lecture. Think aobut this: What is the _steady state_ and the _response time_ of the system?\n",
    "Does your plot agree with your expectation? You don't have to write your answer down."
   ]
  },
  {
   "cell_type": "code",
   "execution_count": 2,
   "id": "636c69e2",
   "metadata": {},
   "outputs": [],
   "source": [
    "beta = 2\n",
    "alpha = 1\n",
    "\n",
    "# your solution 1.2\n",
    "\n"
   ]
  },
  {
   "cell_type": "markdown",
   "id": "6cd0aa5d",
   "metadata": {},
   "source": [
    "__1.3__ Plot a horizontal dashed line on your graph that represents 1⁄2 way to steady state. \n",
    "\n",
    "Recall that the steady state is given by\n",
    "\n",
    "$$\n",
    "X_{ss} = \\frac{\\beta}{\\alpha}\n",
    "$$\n",
    "\n",
    "Call `plt.axhline` or `plt.axvline` to plot a horizontal or vertical line. E.g."
   ]
  },
  {
   "cell_type": "code",
   "execution_count": 28,
   "id": "0c2529ad-1d79-495b-9001-080c638f8c5c",
   "metadata": {},
   "outputs": [
    {
     "data": {
      "image/png": "[encoded data removed]",
      "text/plain": [
       "<Figure size 640x480 with 1 Axes>"
      ]
     },
     "metadata": {},
     "output_type": "display_data"
    }
   ],
   "source": [
    "plt.figure()\n",
    "plt.plot(range(6), range(6), label=\"example\")\n",
    "plt.axhline(y = 1, color=\"black\")\n",
    "plt.axvline(x = 1, linestyle=\"dashed\", color=\"blue\")\n",
    "plt.legend();"
   ]
  },
  {
   "cell_type": "code",
   "execution_count": 3,
   "id": "eae697ba",
   "metadata": {},
   "outputs": [],
   "source": [
    "# your solution 1.3\n",
    "\n"
   ]
  },
  {
   "cell_type": "markdown",
   "id": "50d842b7",
   "metadata": {},
   "source": [
    "__1.4__ Calculate the response time of the system. The response time $\\tau_{1/2}$ is given by\n",
    "\n",
    "$$\n",
    "\\tau_{1/2} = \\frac{\\ln{2}}{\\alpha}\n",
    "$$"
   ]
  },
  {
   "cell_type": "code",
   "execution_count": 4,
   "id": "5e239f7d",
   "metadata": {},
   "outputs": [],
   "source": [
    "# your solution 1.4\n",
    "\n"
   ]
  },
  {
   "cell_type": "markdown",
   "id": "12a05720",
   "metadata": {},
   "source": [
    "__1.5__ Plot the response time as a vertical dashed line onto your previous plot in 1.3\n",
    "\n",
    "You can see the crossing of the threshold value (1/2 way to steady state) and the calculated response time on your graph."
   ]
  },
  {
   "cell_type": "code",
   "execution_count": 5,
   "id": "8388c5d6",
   "metadata": {},
   "outputs": [],
   "source": [
    "# your solution 1.5\n",
    "\n"
   ]
  },
  {
   "cell_type": "markdown",
   "id": "463a59ce",
   "metadata": {},
   "source": [
    "## Part 2 Negatively Autoregulated Gene Expression\n",
    "\n",
    "Consider the negatively autoregulated gene circuit below:\n",
    "\n",
    "![negreggene](https://github.com/dschnitkey/BIOS20236/blob/main/prelab2_negativelyautoregulatedgene.png?raw=true)\n",
    "\n",
    "Described by the ODE:\n",
    "\n",
    "$$ \n",
    "\\frac{dX}{dt} = \\beta _0 + \\beta \\frac{K^n}{X^n + K^n}- \\alpha X\n",
    "$$\n",
    "\n",
    "Notice that we have a basal production term plus a negative regulated production term involving a repressive Hill function.\n",
    "For consistency please use the set of reaction parameters below\n",
    "\n",
    "$$\n",
    "\\begin{align}\n",
    "\\beta_0 &= 0.6\\\\\n",
    "\\beta &= 2.8\\\\\n",
    "K &= 2\\\\\n",
    "n &= 2\\\\\n",
    "\\alpha &= 1\n",
    "\\end{align}\n",
    "$$\n"
   ]
  },
  {
   "cell_type": "markdown",
   "id": "c033b83f",
   "metadata": {},
   "source": [
    "<h3 style=\"color:blue;\">Tasks for Part 2</h3>\n",
    "\n",
    "__2.1__ Create a global function that contains the RHS of the ODE. \n",
    "\n",
    "Solve and plot the solution for the negatively autoregulated gene given initial condition $X_0 = 0$. \n",
    "Please label your axes."
   ]
  },
  {
   "cell_type": "code",
   "execution_count": 6,
   "id": "148a95aa",
   "metadata": {},
   "outputs": [],
   "source": [
    "beta0 = 0.6\n",
    "beta = 2.8\n",
    "K = 2.\n",
    "n = 2.\n",
    "alpha = 1.\n",
    "\n",
    "# your solution 2.1\n",
    "\n"
   ]
  },
  {
   "cell_type": "markdown",
   "id": "d93c1ead",
   "metadata": {
    "jp-MarkdownHeadingCollapsed": true
   },
   "source": [
    "__2.2__ Plot a horizontal dashed line on your graph that represents 1⁄2 way to steady state. \n",
    "\n",
    "The parameters were chosen in a way to make sure that steady state is still 2."
   ]
  },
  {
   "cell_type": "code",
   "execution_count": 7,
   "id": "fbd7b020",
   "metadata": {},
   "outputs": [],
   "source": [
    "# your solution 2.2\n",
    "\n"
   ]
  },
  {
   "cell_type": "markdown",
   "id": "a7c5e587",
   "metadata": {
    "jp-MarkdownHeadingCollapsed": true
   },
   "source": [
    "__2.3__ Find the response time of the negative autoregulated gene model starting from $X = 0$\n",
    "\n",
    "By definition, the response time is the the time for the system to reach 1/2 of its steady state, which is 1 in this case.\n",
    "Your task is to find numerically the time when $X(t)$ reaches 1.\n",
    "\n",
    "Please first run the cell below to define the function `find_t_by_x`. The function allows you to find the first time point when $X$ reaches a certain value given the solution you just found numerically."
   ]
  },
  {
   "cell_type": "code",
   "execution_count": 129,
   "id": "e008e657-d768-40ae-b1dd-fa8277b06201",
   "metadata": {},
   "outputs": [],
   "source": [
    "# sol: the solution\n",
    "# t: time points where the solution is given. t has to be of the same length as sol\n",
    "# x_find: X(t) at the time point you want to find\n",
    "\n",
    "def find_t_by_x(sol, t_vec, x_find):\n",
    "    md = 1e6    # min distance\n",
    "    t_find = -1\n",
    "    for t, x in zip(t_vec, sol):\n",
    "        md_new = (x - x_find)**2\n",
    "        if md_new < md:\n",
    "            md = md_new\n",
    "            t_find = t\n",
    "    return t_find"
   ]
  },
  {
   "cell_type": "code",
   "execution_count": 8,
   "id": "95bd0af9",
   "metadata": {},
   "outputs": [],
   "source": [
    "# your solution 2.3\n",
    "\n"
   ]
  },
  {
   "cell_type": "markdown",
   "id": "91341531-0273-4bb3-a059-21a7743ae4d2",
   "metadata": {},
   "source": [
    "An approximation for the responsetime $\\tau_{1/2}$ when the Hill function is steep is \n",
    "\n",
    "$$\n",
    "\\tau_{1/2} \\approx \\frac{K}{2(\\beta + \\beta_0)}\n",
    "$$\n",
    "\n",
    "I won't go through the detail of how we land on it, but if you are interested, there is a nice and simple intuition in Uri Alon's book Introduction to Systems Biology (2020) Chapter 2.4.\n",
    "\n",
    "Such approximation gives $\\tau_{1/2} = 0.29$. Though here we have the Hill coefficient $n = 2$ and the approximation may not be so good.\n",
    "Still, you can use this value as a quick sanity check.\n",
    "\n",
    "Also, I want you to appreciate that the response time of a negatively autoregulated gene can be tuned by its promoter activity, reflected as $\\beta + \\beta_0$ here.\n",
    "Recall that we've learned in the second class that the response time of a simply regulated gene is only dependent on the degradation rate but not the production rate.\n",
    "By negative autoregulation biology now has a different knob to turn.\n"
   ]
  },
  {
   "cell_type": "markdown",
   "id": "2927d3ee",
   "metadata": {},
   "source": [
    "__2.4__ Plot the response time as a vertical dashed line on your previous plot in 2.2\n",
    "\n",
    "You should see the crossing of the threshold value (1/2 way to steady state) and the calculated response time on your graph."
   ]
  },
  {
   "cell_type": "code",
   "execution_count": 9,
   "id": "d21f6eb2",
   "metadata": {},
   "outputs": [],
   "source": [
    "# your solution 2.4\n",
    "\n"
   ]
  },
  {
   "cell_type": "markdown",
   "id": "e5702f54",
   "metadata": {},
   "source": [
    "## Part 3 Positively Autoregulated Gene Expression\n",
    "\n",
    "Consider the positively autoregulated gene circuit below:\n",
    "\n",
    "![posreggene](https://github.com/dschnitkey/BIOS20236/blob/main/prelab2_posautoregulatedgene.png?raw=true)\n",
    "\n",
    "Described by the ODE:\n",
    "\n",
    "$$ \n",
    "\\frac{dX}{dt} = \\beta _0 + \\beta \\frac{X^n}{X^n + K^n}- \\alpha X\n",
    "$$\n",
    "\n",
    "For consistency please use the set of reaction parameters below\n",
    "\n",
    "$$\n",
    "\\begin{align}\n",
    "\\beta_0 &= 0.6\\\\\n",
    "\\beta &= 2.8\\\\\n",
    "K &= 2\\\\\n",
    "n &= 2\\\\\n",
    "\\alpha &= 1\n",
    "\\end{align}\n",
    "$$\n",
    "\n",
    "<h3 style=\"color:blue;\">Tasks for Part 3</h3>\n",
    "\n",
    "__3.1__ First, create a new function that defines the RHS for the above positively autoregulated gene motif.\n",
    "\n",
    "Then, solve and plot the solution for the positively autoregulated gene given initial condition $X_0 = 0$. \n",
    "Please label your axes."
   ]
  },
  {
   "cell_type": "code",
   "execution_count": 10,
   "id": "ab278d23",
   "metadata": {},
   "outputs": [],
   "source": [
    "beta0 = 0.6\n",
    "beta = 2.8\n",
    "K = 2.\n",
    "n = 2.\n",
    "alpha = 1.\n",
    "\n",
    "# your solution 3.1\n",
    "\n"
   ]
  },
  {
   "cell_type": "markdown",
   "id": "e3b60a30",
   "metadata": {},
   "source": [
    "__3.2__ First, plot a horizontal line on your graph that represents 1⁄2 way to steady state.\n",
    "Keep in mind that the steady state is still 2.\n",
    "\n",
    "Then, plot a vertical line representing the response time you found using the `find_t_by_x` function. Print the response time"
   ]
  },
  {
   "cell_type": "code",
   "execution_count": 11,
   "id": "3246f698",
   "metadata": {},
   "outputs": [],
   "source": [
    "# your solution 3.2\n",
    "\n"
   ]
  },
  {
   "cell_type": "markdown",
   "id": "a521e8b6",
   "metadata": {},
   "source": [
    "### Compare the Response Times for the Three 1-D Gene Motifs\n",
    "\n",
    "Finally, we will do what people may call a _mathematically controlled experiment_.\n",
    "Among the three gene expression models/motifs that you have explored, you may have noticed that\n",
    "all of them share the same steady state and degradation rate.\n",
    "The production rate for the negatively and positively autoregulated gene is bumped up from that\n",
    "of the simply regulated gene to compensate for the steady state.\n",
    "\n",
    "Here we ask __if the response time is different in different motifs__. \n",
    "If so, biology may find these motifs helpful to speed up or slow down certain gene expression.\n",
    "\n",
    "__3.3__ Plot the simply regulated, negatively, and positively autoregulated motifs on the same graph (3 lines). \n",
    "Rank the three motifs in ascending order of response time.\n",
    "\n",
    "Think about why different autoregulation schemes will affect the response time differently. You don't have to write down the answer."
   ]
  },
  {
   "cell_type": "code",
   "execution_count": 12,
   "id": "8351f7fc",
   "metadata": {},
   "outputs": [],
   "source": [
    "# your solution 3.3\n",
    "\n"
   ]
  },
  {
   "cell_type": "markdown",
   "id": "c54720ce-73b7-4cb4-8816-44364cb1b964",
   "metadata": {},
   "source": [
    "__Please edit this cell to add your answer__\n",
    "\n"
   ]
  }
 ],
 "metadata": {
  "kernelspec": {
   "display_name": "Python 3 (ipykernel)",
   "language": "python",
   "name": "python3"
  },
  "language_info": {
   "codemirror_mode": {
    "name": "ipython",
    "version": 3
   },
   "file_extension": ".py",
   "mimetype": "text/x-python",
   "name": "python",
   "nbconvert_exporter": "python",
   "pygments_lexer": "ipython3",
   "version": "3.12.2"
  },
  "toc": {
   "base_numbering": 1,
   "nav_menu": {},
   "number_sections": true,
   "sideBar": true,
   "skip_h1_title": true,
   "title_cell": "Table of Contents",
   "title_sidebar": "Contents",
   "toc_cell": false,
   "toc_position": {},
   "toc_section_display": true,
   "toc_window_display": false
  },
  "varInspector": {
   "cols": {
    "lenName": 16,
    "lenType": 16,
    "lenVar": 40
   },
   "kernels_config": {
    "python": {
     "delete_cmd_postfix": "",
     "delete_cmd_prefix": "del ",
     "library": "var_list.py",
     "varRefreshCmd": "print(var_dic_list())"
    },
    "r": {
     "delete_cmd_postfix": ") ",
     "delete_cmd_prefix": "rm(",
     "library": "var_list.r",
     "varRefreshCmd": "cat(var_dic_list()) "
    }
   },
   "types_to_exclude": [
    "module",
    "function",
    "builtin_function_or_method",
    "instance",
    "_Feature"
   ],
   "window_display": false
  }
 },
 "nbformat": 4,
 "nbformat_minor": 5
}
