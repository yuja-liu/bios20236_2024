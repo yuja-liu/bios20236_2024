{
 "cells": [
  {
   "cell_type": "markdown",
   "id": "ace5894d",
   "metadata": {},
   "source": [
    "# Lab 1\tIntroduction to Python\n",
    "\n",
    "> Yujia, Ethan, and Vincent adapted from materials developed by Diane and Elizabeth\n",
    "> \n",
    "> 2024/3/21 (Week 1)\n",
    "\n",
    "Edit this document directly. As you go through the notebooks you will find numbered questions. Please answer in the cells provided. \n",
    "   \n",
    "This is an individual assignment, but you are allowed (encouraged!) to work together in groups and discuss coding and\n",
    "answers. That said, you are responsible for all the material in this laboratory assignment. **DO NOT\n",
    "COPY from anyone that you work with.** You are **NOT** allowed to share code. You need to write the code\n",
    "and answer the questions yourself. Try the coding yourself first before seeking help.\n",
    "\n",
    "<div class=\"alert alert-info\" role=\"alert\">\n",
    "    \n",
    "__Total Points 20__\n",
    "\n",
    "__Will be graded for completion__ as this may be your first class to Python. \n",
    "You will not get points off if you make a mistake but please show your effort to solve the problems\n",
    "\n",
    "__Due: 3/28 Thursday 1:30 pm__ -- by the start of your first lab session in week 2.\n",
    "</div>\n",
    "\n",
    "If you have any questions, please do not hesitate to ask. You can find the office hours of the instructors and TAs on Canvas. Best of luck!"
   ]
  },
  {
   "cell_type": "markdown",
   "id": "47fac952",
   "metadata": {
    "jp-MarkdownHeadingCollapsed": true
   },
   "source": [
    "### Working with Python in Jupyter Notebooks\n",
    "\n",
    "Jupyter notebook is an interface for coding. We will be using it to code in python, though python can be used in many different interfaces. It uses **cells**, which are isolated blocks of code that can be run separately. \n",
    "You are free to run the cells in any order you like. This is drastically different from the old-school way of running a script from the top to the bottom. The _interactive_ way of running Python makes developing and debugging much less annoying"
   ]
  },
  {
   "cell_type": "markdown",
   "id": "f6d9c824",
   "metadata": {},
   "source": [
    "## Part 1 Python Basics\n",
    "A sequence of commands in a high-level language like Python is called a script. In our code cells we will be writing scripts to solve problems. You will work in this notebook directly, so go ahead and rename it (by clicking on the name at the top) to include your name at the begining in the following format:   \n",
    "\n",
    "```\n",
    "Lastname_Firstname_lab#\n",
    "```\n",
    "\n",
    "the file extension is .ipynb, which is a python based Jupyter notebook. In general you should avoid using spaces in script file name, and instead use underscores (_).\n",
    "Coders typically like underscores better than spaces as spaces are not allowed in the name of a variable -- we will introduce you to _variables_ in a second.\n",
    "   \n",
    "To run your cells, click into the cell of interest, then click the run button at the top, or press Shift+Enter. If you asked the cell to print something out at the end, it will show up below the run cell. If there is a problem with the code, and error description will appear below instead.\n",
    "By default, when you run a cell the last variable will also be displayed. Try"
   ]
  },
  {
   "cell_type": "code",
   "execution_count": 3,
   "id": "8f531cf0-711b-4778-8450-f69efcfb3ac8",
   "metadata": {},
   "outputs": [
    {
     "data": {
      "text/plain": [
       "3.14"
      ]
     },
     "execution_count": 3,
     "metadata": {},
     "output_type": "execute_result"
    }
   ],
   "source": [
    "# Click run or press Shift+Enter to run me!\n",
    "3.14"
   ]
  },
  {
   "cell_type": "code",
   "execution_count": 4,
   "id": "309628dd",
   "metadata": {},
   "outputs": [
    {
     "name": "stdout",
     "output_type": "stream",
     "text": [
      "Hello World!\n"
     ]
    }
   ],
   "source": [
    "# Click run or press Shift+Enter to run me!\n",
    "print(\"Hello World!\")"
   ]
  },
  {
   "cell_type": "code",
   "execution_count": 5,
   "id": "b69287d2",
   "metadata": {},
   "outputs": [
    {
     "ename": "SyntaxError",
     "evalue": "Missing parentheses in call to 'print'. Did you mean print(...)? (1807731225.py, line 2)",
     "output_type": "error",
     "traceback": [
      "\u001b[1;36m  Cell \u001b[1;32mIn[5], line 2\u001b[1;36m\u001b[0m\n\u001b[1;33m    print \"Hello World!\"\u001b[0m\n\u001b[1;37m    ^\u001b[0m\n\u001b[1;31mSyntaxError\u001b[0m\u001b[1;31m:\u001b[0m Missing parentheses in call to 'print'. Did you mean print(...)?\n"
     ]
    }
   ],
   "source": [
    "#Run me! I will throw an error :(\n",
    "print \"Hello World!\""
   ]
  },
  {
   "cell_type": "markdown",
   "id": "6af9b6f1",
   "metadata": {},
   "source": [
    "<div class=\"alert alert-danger\" role=\"alert\">\n",
    "\n",
    "In this code cell we tried to print, but we got a **syntax error**, which means we didn't present the command to python in a way it understands. Let's learn a little bit of basic python syntax  \n",
    "</div>  \n",
    "\n",
    "Fun fact: we are using python3, the most recent version of python, in python2 this syntax was valid for print statements, which is why it is giving such a specific error statement. Unfortunately, python won't usually propose solutions."
   ]
  },
  {
   "cell_type": "markdown",
   "id": "8b5eaed3",
   "metadata": {},
   "source": [
    "### Arithmetic and Scripts\n",
    "\n",
    "\n",
    "In this section, you will perform elementary arithmetic in Python.   \n",
    "\n",
    "The usual arithmetic characters\n",
    "do what you expect: +, -, \\*, / perform addition, subtraction, multiplication and division, respectively.    "
   ]
  },
  {
   "cell_type": "code",
   "execution_count": 13,
   "id": "7783bf2b",
   "metadata": {},
   "outputs": [
    {
     "data": {
      "text/plain": [
       "10"
      ]
     },
     "execution_count": 13,
     "metadata": {},
     "output_type": "execute_result"
    }
   ],
   "source": [
    "#Addition\n",
    "7 + 3"
   ]
  },
  {
   "cell_type": "code",
   "execution_count": 14,
   "id": "e47527fd",
   "metadata": {},
   "outputs": [
    {
     "data": {
      "text/plain": [
       "4"
      ]
     },
     "execution_count": 14,
     "metadata": {},
     "output_type": "execute_result"
    }
   ],
   "source": [
    "#Subtraction\n",
    "7 - 3"
   ]
  },
  {
   "cell_type": "code",
   "execution_count": 8,
   "id": "374b1b4a",
   "metadata": {},
   "outputs": [
    {
     "data": {
      "text/plain": [
       "21"
      ]
     },
     "execution_count": 8,
     "metadata": {},
     "output_type": "execute_result"
    }
   ],
   "source": [
    "#Multiplication\n",
    "7*3"
   ]
  },
  {
   "cell_type": "code",
   "execution_count": 9,
   "id": "d6bfb13b",
   "metadata": {},
   "outputs": [
    {
     "data": {
      "text/plain": [
       "2.3333333333333335"
      ]
     },
     "execution_count": 9,
     "metadata": {},
     "output_type": "execute_result"
    }
   ],
   "source": [
    "#Division\n",
    "7/3"
   ]
  },
  {
   "cell_type": "markdown",
   "id": "d0fc65ee",
   "metadata": {},
   "source": [
    "Now let's look at some other useful operations:   \n",
    "To raise a number (x) to a power (y), use double \\*, like this: x\\**y. \n",
    "\n",
    "If you move from other language e.g. R you may be familiar with using the caret `^` as the power operator.\n",
    "This is __NOT__ the case for python. Python reserves the caret for another mathmatical operation. Be careful!"
   ]
  },
  {
   "cell_type": "code",
   "execution_count": 11,
   "id": "9bffff8b",
   "metadata": {},
   "outputs": [
    {
     "data": {
      "text/plain": [
       "343"
      ]
     },
     "execution_count": 11,
     "metadata": {},
     "output_type": "execute_result"
    }
   ],
   "source": [
    "#raise to the power\n",
    "7**3"
   ]
  },
  {
   "cell_type": "markdown",
   "id": "cc149fb5",
   "metadata": {},
   "source": [
    "**Floor Division** uses the // character, and takes the quotient of 2 numbers and then rounds down."
   ]
  },
  {
   "cell_type": "code",
   "execution_count": 12,
   "id": "7c6fddf5",
   "metadata": {},
   "outputs": [
    {
     "data": {
      "text/plain": [
       "2"
      ]
     },
     "execution_count": 12,
     "metadata": {},
     "output_type": "execute_result"
    }
   ],
   "source": [
    "#Floor division\n",
    "7//3"
   ]
  },
  {
   "cell_type": "markdown",
   "id": "6be1f88c",
   "metadata": {},
   "source": [
    "Modulo, represented by %, is an operation that returns the remainder when dividing 2 numbers. Try changing the numbers below to get a sense for it!"
   ]
  },
  {
   "cell_type": "code",
   "execution_count": 15,
   "id": "b6f0a813",
   "metadata": {},
   "outputs": [
    {
     "data": {
      "text/plain": [
       "1"
      ]
     },
     "execution_count": 15,
     "metadata": {},
     "output_type": "execute_result"
    }
   ],
   "source": [
    "#Modulo\n",
    "7%3"
   ]
  },
  {
   "cell_type": "markdown",
   "id": "1e9c8b17",
   "metadata": {},
   "source": [
    "### Variable\tAssignment\n",
    "\n",
    "We\twill\tnow\tassign\tnumerical\tvalues\tto\t**variables**\tand manipulate\tthese\tvalues\tby\ttheir\tsymbolic\t\n",
    "representation\tof\tvariable\tname.\tThe\tassignment\tcommand\tlooks\tlike\tthis:   \n",
    "\n",
    "```\n",
    "variable_name = some_expression\n",
    "```\n",
    "     \n",
    "where\t`some_expression`\tcan\tbe\ta\tnumber,\ta\tvariable,\tor some\tarithmetic\t\n",
    "operation\tinvolving\tnumbers\tand/or\tvariables.   "
   ]
  },
  {
   "cell_type": "code",
   "execution_count": 1,
   "id": "25d356d4",
   "metadata": {},
   "outputs": [
    {
     "name": "stdout",
     "output_type": "stream",
     "text": [
      "30\n"
     ]
    }
   ],
   "source": [
    "x = 10\n",
    "y = 20\n",
    "print(x + y)"
   ]
  },
  {
   "cell_type": "markdown",
   "id": "2083374b",
   "metadata": {},
   "source": [
    "Note that = means **assignment** which is distinct from a true equality. In other words the order matters, the left side of the = is the name you want to give the variable, while right side is the value, see how the flipped assignment throws an error:"
   ]
  },
  {
   "cell_type": "code",
   "execution_count": 2,
   "id": "fb014a54",
   "metadata": {},
   "outputs": [
    {
     "ename": "SyntaxError",
     "evalue": "cannot assign to literal here. Maybe you meant '==' instead of '='? (2109587270.py, line 1)",
     "output_type": "error",
     "traceback": [
      "\u001b[1;36m  Cell \u001b[1;32mIn[2], line 1\u001b[1;36m\u001b[0m\n\u001b[1;33m    7 = x\u001b[0m\n\u001b[1;37m    ^\u001b[0m\n\u001b[1;31mSyntaxError\u001b[0m\u001b[1;31m:\u001b[0m cannot assign to literal here. Maybe you meant '==' instead of '='?\n"
     ]
    }
   ],
   "source": [
    "7 = x"
   ]
  },
  {
   "cell_type": "markdown",
   "id": "3cf4127c",
   "metadata": {},
   "source": [
    "However,  One\tcan\thave\tthe\tsame\tvariable on\tboth\tsides\t\n",
    "of\tthe\tequal\tsign given the variable is defined,\te.g.\t   \n",
    "\n",
    "```\n",
    "counter = 1\n",
    "counter = counter + 2\n",
    "```\n",
    "  \n",
    "which increases\tthe\tvalue\tof\t`counter` by\t2.\n",
    "It is legal on the left-hand side because `counter` is legal as a variable name.\n",
    "It is also legal on the right-hand side as part of an expression because it already has a value."
   ]
  },
  {
   "cell_type": "code",
   "execution_count": 4,
   "id": "cfcf7bef",
   "metadata": {},
   "outputs": [
    {
     "name": "stdout",
     "output_type": "stream",
     "text": [
      "counter = 2\n",
      "counter = 4\n"
     ]
    }
   ],
   "source": [
    "counter = 2\n",
    "\n",
    "#print to the console the value of counter\n",
    "print(\"counter =\", counter)\n",
    "\n",
    "#increment counter by 2 \n",
    "counter = counter + 2\n",
    "\n",
    "#print again to see how value has changed\n",
    "print(\"counter =\", counter)"
   ]
  },
  {
   "cell_type": "markdown",
   "id": "c713d1aa",
   "metadata": {},
   "source": [
    "a shorthand for this is writing\n",
    "\n",
    "    counter += 1\n",
    "    \n",
    "which is equivalent to counter = counter + 1"
   ]
  },
  {
   "cell_type": "code",
   "execution_count": 5,
   "id": "04199ca5",
   "metadata": {},
   "outputs": [
    {
     "name": "stdout",
     "output_type": "stream",
     "text": [
      "counter = 2\n",
      "counter = 4\n"
     ]
    }
   ],
   "source": [
    "counter = 2\n",
    "\n",
    "#print to the console the value of counter\n",
    "print(\"counter =\", counter)\n",
    "\n",
    "#increment counter by 2 \n",
    "counter += 2\n",
    "\n",
    "#print again to see how value has changed\n",
    "print(\"counter =\", counter)"
   ]
  },
  {
   "cell_type": "markdown",
   "id": "a94bcc21",
   "metadata": {},
   "source": [
    "subtraction, multiplication and division also work this way, try changing the operation around to see. E.g."
   ]
  },
  {
   "cell_type": "code",
   "execution_count": 6,
   "id": "95f28879-7e53-4eb1-82e8-2916cbc93e9c",
   "metadata": {},
   "outputs": [
    {
     "name": "stdout",
     "output_type": "stream",
     "text": [
      "counter = 0.5\n"
     ]
    }
   ],
   "source": [
    "counter = 1\n",
    "\n",
    "counter /= 2\n",
    "\n",
    "print(\"counter =\", counter)"
   ]
  },
  {
   "cell_type": "markdown",
   "id": "1130278b",
   "metadata": {},
   "source": [
    "<h3 style=\"color:blue;\">Tasks for Part 1</h3>\n",
    "\n",
    "   \n",
    "**1.1**\tLet\tthe\tvariable\tTime\t=\thow\tmany\tseconds\tin\t80\tminutes.\t"
   ]
  },
  {
   "cell_type": "code",
   "execution_count": 1,
   "id": "279befeb",
   "metadata": {},
   "outputs": [],
   "source": [
    "# your solution 1.1\n"
   ]
  },
  {
   "cell_type": "markdown",
   "id": "d7d87ebe",
   "metadata": {},
   "source": [
    "**1.2**\tLet\tthe\tvariable\tSolution\t=\twhat\tis\tthe\tconcentration\tof\t0.23\tmoles\tin\t2.3\tL"
   ]
  },
  {
   "cell_type": "code",
   "execution_count": 2,
   "id": "6496a64e",
   "metadata": {},
   "outputs": [],
   "source": [
    "# your solution 1.2\n"
   ]
  },
  {
   "cell_type": "markdown",
   "id": "ad148326",
   "metadata": {},
   "source": [
    "## Part 2 Creating Functions\n",
    "\n",
    "Sometimes, there will be an operation you'd like to do many times (for example calculate the average of a set of numbers) and for that we can use a **function**. There are two steps in using functions    \n",
    "\n",
    "1. Defining a Function\n",
    "\n",
    "2. Calling a Function\n",
    "\n",
    "**Defining a function** needs to only be done once. At this step you tell the code your function's name, what inputs it takes, what it does with those inputs and what it returns at the end. The syntax is as follows:\n",
    "\n",
    "**FUNCTION\tSyntax**      \n",
    "\n",
    "\n",
    "```python\n",
    "def myfunc(input1, input2, ..., inputn):\n",
    "    equation/s you are solving for\n",
    "    return output1, output2, ..., outputn\n",
    "``` \n",
    "\n",
    "`def` is a python keyword that indicates you are creating a function   \n",
    "   \n",
    "`myfunc` is the name of your function. It can be anything as long as it doesn't start with a number or have spaces.   \n",
    "\n",
    "**input1...** are placeholder names for the inputs you will give the function, they are **NOT** the same as the actual variables you will give the function later. You can have as many or as few as needed.   \n",
    "   \n",
    "**:** You need this colon following the parenthesis!   \n",
    "   \n",
    "**Inside your function -** Everything after this line will be the inside of your function. **These lines must be indented!** Indentation means the tab or (commonly 4) spaces at the front of the line. \n",
    "It is your choice to use space or tab, but python doesn't like mix use -- this can be a rabbit hole and lead to some extremely nasty bugs since you can't visually distinguish between spaces and a tab. \n",
    "__Never mix use spaces and tab for indentation!__\n",
    "\n",
    "Indentation is _mandatory_ in python for defining a function, etc. If you move from other languages, e.g. R, you may imagine that indentation is just for the look,\n",
    "but in python it is mandatory.\n",
    "   \n",
    "**return** is a keyword that indicates that the function will give the designated outputs to you at the end. **As soon as your function hits a return statement it will stop, do not put anything after a return!** \n",
    "\n",
    "\n",
    "Here is an example of a function definition that will take 4 numbers and calculate their average:\n",
    "\n",
    "        "
   ]
  },
  {
   "cell_type": "code",
   "execution_count": 15,
   "id": "0eaab4bd",
   "metadata": {},
   "outputs": [],
   "source": [
    "def avg_of_four(number1, number2, number3, number4):\n",
    "    ans = (number1 + number2 + number3 + number4)/4\n",
    "    return ans"
   ]
  },
  {
   "cell_type": "markdown",
   "id": "1c5b127c",
   "metadata": {},
   "source": [
    "Notice that running the cell above doesn't output anything! To use our new function we need to **call** it. We call a function like so:"
   ]
  },
  {
   "cell_type": "code",
   "execution_count": 16,
   "id": "d212cb65",
   "metadata": {},
   "outputs": [
    {
     "data": {
      "text/plain": [
       "2.5"
      ]
     },
     "execution_count": 16,
     "metadata": {},
     "output_type": "execute_result"
    }
   ],
   "source": [
    "avg_of_four(1,2,3,4)"
   ]
  },
  {
   "cell_type": "markdown",
   "id": "0a0363dc",
   "metadata": {},
   "source": [
    "We see it gives us out the average of the 4 numbers! We can pass it variables as well as numbers:"
   ]
  },
  {
   "cell_type": "code",
   "execution_count": 18,
   "id": "ef677a4d",
   "metadata": {},
   "outputs": [
    {
     "name": "stdout",
     "output_type": "stream",
     "text": [
      "4.0\n"
     ]
    }
   ],
   "source": [
    "num1 = 2\n",
    "num2 = 3\n",
    "num3 = 5\n",
    "num4 = 6\n",
    "\n",
    "myavgs = avg_of_four(num1, num2, num3, num4)\n",
    "print(myavgs)"
   ]
  },
  {
   "cell_type": "code",
   "execution_count": 33,
   "id": "8eb5e16b-ef51-4c22-a946-c8c3b199e6d9",
   "metadata": {},
   "outputs": [
    {
     "ename": "IndentationError",
     "evalue": "unindent does not match any outer indentation level (<string>, line 8)",
     "output_type": "error",
     "traceback": [
      "\u001b[1;36m  File \u001b[1;32m<string>:8\u001b[1;36m\u001b[0m\n\u001b[1;33m    return ans\u001b[0m\n\u001b[1;37m              ^\u001b[0m\n\u001b[1;31mIndentationError\u001b[0m\u001b[1;31m:\u001b[0m unindent does not match any outer indentation level\n"
     ]
    }
   ],
   "source": [
    "# Mixing spaces and tab (NEVER NEVER do this!)\n",
    "# 1st line inside the function uses 4 spaces to indent. 2nd line uses an actual tab. \n",
    "# By eye-balling this function is exactly the same as the original one\n",
    "# but you'll see it throws an error\n",
    "\n",
    "def avg_of_four2(number1, number2, number3, number4):\n",
    "\tans = (number1 + number2 + number3 + number4)/4\n",
    "    return ans"
   ]
  },
  {
   "cell_type": "markdown",
   "id": "b8537390",
   "metadata": {},
   "source": [
    "### A quick note about function scope   \n",
    "  \n",
    "Let's quickly touch on variable **scope**. Scope refers to the location that a variable exists in. There are **global** variables, which your entire script knows about. This includes our manually defined variables like `ans`.  Some variables, however, are **local**. Only a certain part of the code keeps track of this variable. Such is the case for variables in functions. In our example, our inputs (number1, number2, number3, number4), and ans are all **local** variables, they are only defined within the function. If we try to look at one of these variables outside of the function, we will see it doesn't exist:"
   ]
  },
  {
   "cell_type": "code",
   "execution_count": 34,
   "id": "a866a2cf",
   "metadata": {},
   "outputs": [
    {
     "ename": "NameError",
     "evalue": "name 'ans' is not defined",
     "output_type": "error",
     "traceback": [
      "\u001b[1;31m---------------------------------------------------------------------------\u001b[0m",
      "\u001b[1;31mNameError\u001b[0m                                 Traceback (most recent call last)",
      "Cell \u001b[1;32mIn[34], line 1\u001b[0m\n\u001b[1;32m----> 1\u001b[0m \u001b[38;5;28mprint\u001b[39m(ans)\n",
      "\u001b[1;31mNameError\u001b[0m: name 'ans' is not defined"
     ]
    }
   ],
   "source": [
    "print(ans)"
   ]
  },
  {
   "cell_type": "markdown",
   "id": "e1b01924",
   "metadata": {},
   "source": [
    "You can consider the variables within a function as placeholders, which define what to do with global variables once they are passed to the function\n",
    "\n"
   ]
  },
  {
   "cell_type": "markdown",
   "id": "e66a479a",
   "metadata": {},
   "source": [
    "### Using\tLibraries\n",
    "\n",
    "Many times, the function you want already exists. Some of them are included in python by default, while others are included in **libraries**. For these libraries, you need to **import** them typically at the beginning of your script. \n",
    "You can use them in the same way as your homemade functions. The only difference is you have to call them as `library.func` since they defined elsewhere (i.e. in a different namespace).\n",
    "\n",
    "Here is the syntax for importing a library:"
   ]
  },
  {
   "cell_type": "code",
   "execution_count": 7,
   "id": "d577b781",
   "metadata": {},
   "outputs": [],
   "source": [
    "import math\n",
    "import numpy as np # when you use numpy use np.arange….etc.   ]\n",
    "import matplotlib.pyplot as plt # when you use matplotlib.pyplot use plt.plot….etc."
   ]
  },
  {
   "cell_type": "markdown",
   "id": "ac9ab0b6",
   "metadata": {},
   "source": [
    "Here is the documentation for these libraries.\n",
    "\n",
    "math library: https://docs.python.org/3/library/math.html   \n",
    "numpy: https://numpy.org/doc/stable/   \n",
    "pyplot: https://matplotlib.org/stable/tutorials/introductory/pyplot.html\n",
    "\n",
    "Let's look at an example using the `log10` function from the math module. From the documentation we can learn that this function takes the log base 10 of whatever real number passed to the function."
   ]
  },
  {
   "cell_type": "code",
   "execution_count": 39,
   "id": "696bf79f",
   "metadata": {},
   "outputs": [
    {
     "name": "stdout",
     "output_type": "stream",
     "text": [
      "1.0\n"
     ]
    }
   ],
   "source": [
    "takethelog = math.log10(10)\n",
    "print(takethelog)"
   ]
  },
  {
   "cell_type": "markdown",
   "id": "8dc0e4be-22e8-47f8-a10b-12aa3006836b",
   "metadata": {},
   "source": [
    "### Variable Types\n",
    "\n",
    "So far we have been using numbers, but at times we may want to use different kinds of variables. Here is a brief intro to the different data types we will see often:\n",
    "\n",
    "1. Integers - positive and negative whole numbers\n",
    "2. Floats - this is python's word for decimals\n",
    "3. Strings - strings hold text, not numbers. You can make something a string by putting it in quotes\n",
    "4. Lists - a list of variables, it is denoted by square brackets: []"
   ]
  },
  {
   "cell_type": "code",
   "execution_count": 48,
   "id": "bbb71de8",
   "metadata": {},
   "outputs": [],
   "source": [
    "integer_ex = 2\n",
    "float_ex = 2.000\n",
    "string_ex = \"Hello World!\"\n",
    "list_ex = [2,3,4,5]"
   ]
  },
  {
   "cell_type": "markdown",
   "id": "189467f1-6585-4068-acbc-44e1281f41c7",
   "metadata": {},
   "source": [
    "in this next section we will look more into lists and loops"
   ]
  },
  {
   "cell_type": "markdown",
   "id": "841dd265",
   "metadata": {},
   "source": [
    "<h3 style=\"color:blue;\">Tasks for Part 2</h3>\t\n",
    "\n",
    "**2.1**\tFind\tthe\tvalue\tof\t7\traised\tto\tthe\tpower\t$\\pi$ (use\tthe\tmath\tlibrary)– be\tsure\tto\tassign\tthe\tanswer\tto\ta\tvariable\tand\tprint your answer"
   ]
  },
  {
   "cell_type": "code",
   "execution_count": 3,
   "id": "2b07e8db",
   "metadata": {},
   "outputs": [],
   "source": [
    "# your solution 2.1\n"
   ]
  },
  {
   "cell_type": "markdown",
   "id": "a1610057",
   "metadata": {},
   "source": [
    "**2.2**\tDivide\t1\tby\ta\tbillion\tand note\thow\tPython uses\tscientific\tnotation – be\tsure\tto\tassign\tthe\tanswer\t\n",
    "to\ta\tvariable\tand\tprint"
   ]
  },
  {
   "cell_type": "code",
   "execution_count": 4,
   "id": "1300cc61",
   "metadata": {},
   "outputs": [],
   "source": [
    "# your solution 2.2\n"
   ]
  },
  {
   "cell_type": "markdown",
   "id": "d8b57704",
   "metadata": {},
   "source": [
    "**2.3**\tUse\tscientific\tnotation to\tmultiply\tfour\tbillion\tby\t$\\pi$\t– be sure\tto\tassign\tthe\tanswer\tto\ta\tvariable\t\n",
    "and\tprint"
   ]
  },
  {
   "cell_type": "code",
   "execution_count": 5,
   "id": "3597f45f",
   "metadata": {},
   "outputs": [],
   "source": [
    "# your solution 2.3\n"
   ]
  },
  {
   "cell_type": "markdown",
   "id": "1ea9b8ea",
   "metadata": {},
   "source": [
    "__2.4__ Try writing your own function that adds 2 numbers together and returns the sum:"
   ]
  },
  {
   "cell_type": "code",
   "execution_count": 6,
   "id": "b58093d4",
   "metadata": {},
   "outputs": [],
   "source": [
    "# your solution 2.4\n"
   ]
  },
  {
   "cell_type": "markdown",
   "id": "149e92b9",
   "metadata": {},
   "source": [
    "## Part\t3\tFor\tloops,\tvectors\tand\tarray\tsubscripting\n",
    "\n",
    "Oftentimes\ta\tscript\thas\tto\tperform\ta\tsimilar\ttask\tmany\ttimes,\te.g.\tadding\tup\ta\tbunch\tof\t\n",
    "increments\tto\tcalculate\tthe\ttotal\tchange.\tLike\tall\tprogramming\tlanguages,\tPython has\tways\tof\t\n",
    "repeating\tthe\tsame\tchunk\tof\tcommands\tmultiple\ttimes.\tThese\tstructures\tare\tcalled\t__loops__  \n"
   ]
  },
  {
   "cell_type": "markdown",
   "id": "ab0f556e",
   "metadata": {},
   "source": [
    "### For Loops\n",
    "\n",
    "The syntax of for loops is somewhat similar to a function:\n",
    "\n",
    "```python\n",
    "for placeholder in loop_target:\n",
    "    something you want to do repeatedly\n",
    "```\n",
    "        \n",
    "**for** is the python keyword that indicates we want to repeat a set of code      \n",
    "\n",
    "**placeholder** is the name of a NEW variable, it will change value every time the loop operates   \n",
    "\n",
    "**loop_target** is a list like variable. Each value in loop_target will take on the value of placeholder subsequently   \n",
    "\n",
    "**Tab** everything tabbed in will be executed repeatedly. unindented lines will signal the end of the loop"
   ]
  },
  {
   "cell_type": "markdown",
   "id": "7a9f0a3b",
   "metadata": {},
   "source": [
    "We will show you how to build up a list of numbers using a for loop\n"
   ]
  },
  {
   "cell_type": "code",
   "execution_count": 1,
   "id": "e6d75ce0",
   "metadata": {},
   "outputs": [
    {
     "name": "stdout",
     "output_type": "stream",
     "text": [
      "[0]\n",
      "[0, 1]\n",
      "[0, 1, 2]\n",
      "[0, 1, 2, 3]\n",
      "[0, 1, 2, 3, 4]\n",
      "[0, 1, 2, 3, 4, 5]\n",
      "[0, 1, 2, 3, 4, 5, 6]\n",
      "[0, 1, 2, 3, 4, 5, 6, 7]\n",
      "[0, 1, 2, 3, 4, 5, 6, 7, 8]\n",
      "[0, 1, 2, 3, 4, 5, 6, 7, 8, 9]\n",
      "data1 = [0, 1, 2, 3, 4, 5, 6, 7, 8, 9]\n"
     ]
    }
   ],
   "source": [
    "data1 = [] # initialize data1 as a list\n",
    "beginning = 0\n",
    "end = 10\n",
    "\n",
    "for i in range(beginning, end):\n",
    "    data1.append(i) # appends a passed obj into the existing list\n",
    "    print(data1)\n",
    "    \n",
    "print(\"data1 =\", data1)"
   ]
  },
  {
   "cell_type": "markdown",
   "id": "50598a4a-8896-4439-9e3a-d0e558740c02",
   "metadata": {},
   "source": [
    "### Counterintuitive behavior of `range`"
   ]
  },
  {
   "cell_type": "markdown",
   "id": "35cb7c2f",
   "metadata": {},
   "source": [
    "The _end_ number is not included in the list of numbers! Why?\n",
    "\n",
    "Just to make the question very clear: `range(0, 10)` actually gives a list of number from 0 to 9, which does not include the end number 10.\n",
    "In another word, __the upperbound is exclusive__. Why?\n",
    "\n",
    "My personal theory is that it reflects a legacy from older languages such as C/C++ where one has to manage the memory somewhat manually.\n",
    "You should remember that such behavior is consistent with __slicing__ a list in pyhon.\n",
    "Slicing is to get a range of elements from a list.\n",
    "\n",
    "Suppose that you have a list\n",
    "\n",
    "```python\n",
    "a = ['a', 'b', 'c', 'd']\n",
    "```\n",
    "What will you get if you slice list `a`, starting with 1 and ending with 3?11."
   ]
  },
  {
   "cell_type": "code",
   "execution_count": 5,
   "id": "d791816a-425e-46c8-b461-5df1cb55127b",
   "metadata": {},
   "outputs": [
    {
     "data": {
      "text/plain": [
       "['b', 'c']"
      ]
     },
     "execution_count": 5,
     "metadata": {},
     "output_type": "execute_result"
    }
   ],
   "source": [
    "a = ['a', 'b', 'c', 'd']\n",
    "a[1:3]"
   ]
  },
  {
   "cell_type": "markdown",
   "id": "91d99602-5322-48ce-957f-1bbcfa77abc0",
   "metadata": {},
   "source": [
    "This is because\n",
    "- Index starts with 0 in python, and\n",
    "- The ending position is _excluded_\n",
    "\n",
    "The list is stored in the computer as\n",
    "| Index | 0 | 1 | 2 | 3 |\n",
    "| --- | -- | -- | -- | -- |\n",
    "| Element | 'a' | 'b' | 'c' | 'd' |\n",
    "\n",
    "That's why a slice starting from 1 and ending with 3 will actually give you the elements with index 1 and 2 i.e. 'b' and 'c'.\n",
    "This can be counterintuitive at the beginning, but you'll get used to it with practice!\n",
    "You will find that the python way of indexing/slicing makes sense in many cases"
   ]
  },
  {
   "cell_type": "markdown",
   "id": "78011007",
   "metadata": {},
   "source": [
    "Alternatively, you can assign values using python library features – numpy `array`,\n",
    "`arrange`, and `linspace` function (3 ways):   "
   ]
  },
  {
   "cell_type": "code",
   "execution_count": 8,
   "id": "5306e66d",
   "metadata": {},
   "outputs": [
    {
     "name": "stdout",
     "output_type": "stream",
     "text": [
      "data11 = [0 2 4 6 8]\n"
     ]
    }
   ],
   "source": [
    "beginning = 0\n",
    "end = 10\n",
    "stepsize = 2\n",
    "\n",
    "data11 = np.arange(beginning, end, stepsize) # Return evenly spaced values within a given interval with stepsize\n",
    "print(\"data11 =\", data11)"
   ]
  },
  {
   "cell_type": "markdown",
   "id": "c759ba83-b3f5-4078-92e4-0d15b015443b",
   "metadata": {},
   "source": [
    "`np.array` converts e.g. a list to a numpy array, a numpy version of list that is quite versatile -- we get back to this later"
   ]
  },
  {
   "cell_type": "code",
   "execution_count": 11,
   "id": "3c5bca9f",
   "metadata": {},
   "outputs": [
    {
     "name": "stdout",
     "output_type": "stream",
     "text": [
      "data12 = [0 2 4 6 8]\n"
     ]
    }
   ],
   "source": [
    "beginning = 0\n",
    "end = 10\n",
    "stepsize = 2\n",
    "\n",
    "data12 = np.array(range(beginning,end,stepsize)) # converts data11 into an array,goes rom beginning to end with stepsize\n",
    "print(\"data12 =\", data12)\n"
   ]
  },
  {
   "cell_type": "markdown",
   "id": "89126b34-9ad6-4e9f-a5bf-976a94bdbd36",
   "metadata": {},
   "source": [
    "`np.linspace` is similar to `np.arange` but they are different in two ways.\n",
    "1. The end point of `linspace` is included\n",
    "2. You'll give the length of the array as the third argument in `linspace`"
   ]
  },
  {
   "cell_type": "code",
   "execution_count": 12,
   "id": "a990c1c4",
   "metadata": {},
   "outputs": [
    {
     "name": "stdout",
     "output_type": "stream",
     "text": [
      "data20 = [ 0.          1.11111111  2.22222222  3.33333333  4.44444444  5.55555556\n",
      "  6.66666667  7.77777778  8.88888889 10.        ]\n"
     ]
    }
   ],
   "source": [
    "beginning = 0\n",
    "end = 10\n",
    "numpoints = 10\n",
    "\n",
    "data20=np.linspace(beginning, end, numpoints) #linspace will give you a set number of points between your start and end value\n",
    "print(\"data20 =\", data20)\n"
   ]
  },
  {
   "cell_type": "markdown",
   "id": "42248573",
   "metadata": {},
   "source": [
    "<h3 style=\"color:blue;\">Tasks\tfor\tPart\t3</h3>\n",
    "\n",
    "__3.1__\tWrite\tcode\tthat\tassigns a\tvariable\twith\tinteger\tvalues\tfrom\t1\tto\t10\tin\tsteps\tof\t1. and print the solution. Try each of the following approaches:\n",
    "1.  Use\tfor-loops\n",
    "2.  Use\tnp.arange or\tnp.linspace"
   ]
  },
  {
   "cell_type": "code",
   "execution_count": 7,
   "id": "030d584d",
   "metadata": {},
   "outputs": [],
   "source": [
    "# your solution 3.1\n"
   ]
  },
  {
   "cell_type": "markdown",
   "id": "1f4ad5dd",
   "metadata": {},
   "source": [
    "__3.2__\tWrite\tcode\tthat\tassigns a\tvariable\twith\tvalues from\t0\tto\t10\tin\tsteps\tof\t0.1.\n"
   ]
  },
  {
   "cell_type": "code",
   "execution_count": 8,
   "id": "f12c4159",
   "metadata": {},
   "outputs": [],
   "source": [
    "# your solution 3.2\n"
   ]
  },
  {
   "cell_type": "markdown",
   "id": "b435b4d0",
   "metadata": {},
   "source": [
    "## Part\t4 Math on Arrays and Plotting\n",
    "\n",
    "Let's generate some curves to practice plotting"
   ]
  },
  {
   "cell_type": "code",
   "execution_count": 48,
   "id": "49521016",
   "metadata": {},
   "outputs": [],
   "source": [
    "x=np.arange(1,21) # sequence of numbers 1-20 in steps of 1\n",
    "y1 = np.sin(x) #take the sine of the x variable\n",
    "y2 = np.cos(x) # take the cosine of the x variable"
   ]
  },
  {
   "cell_type": "markdown",
   "id": "58a6ec41",
   "metadata": {},
   "source": [
    "You\tcan\tuse\tthe\tplot\tcommand\tto\tcreate\ttwo\tdimensional\tgraphs\tfrom\ttwo\tvector- valued\tvariables\t\n",
    "of\tthe\tsame\tlength,\te.g. `plt.plot(x, y)`. The\tfirst\tvariable\t(e.g.\tx)\tcontains\tthe\tvalues\tof\tthe\t\n",
    "independent\tvariable,\twhich\tis\tplotted\ton\tthe\tx-axis,\tand\tthe\tsecond\tvariable\tcontains\tthe\tvalues\tof\t\n",
    "the\tdependent\tvariable\t(e.g.\ty),\twhich\tis\tplotted\ton\tthe\ty-axis.\t\n",
    "\n",
    "Of\tcourse,\tit's a good practice to always\tlabel\tyour\taxes\tof\ta\tplot,\tadd\ttitle and\tlegends. \n",
    "You\tcan\taugment\tthe\tcolor\tand\tdesign\tof\tthe\tline\tor\tpoints\tplotted\tusing\tsingle\tquotes\tafter\tthe\tx- and\ty- axes,\tex: `plt.plot(x,data33,'*-r')`.\n",
    "Here `*` tells python to use a star for each data point, `-` means a solid line, and `r` means color red."
   ]
  },
  {
   "cell_type": "code",
   "execution_count": 50,
   "id": "bd3171a1",
   "metadata": {},
   "outputs": [
    {
     "data": {
      "image/png": "[encoded data removed]",
      "text/plain": [
       "<Figure size 800x400 with 1 Axes>"
      ]
     },
     "metadata": {},
     "output_type": "display_data"
    }
   ],
   "source": [
    "plt.figure(figsize = [8,4]) # starts a new figure the figsize argument lets you change the length and width of the plot\n",
    "plt.plot(x,y1,'.-') # x= x-axis, y=y-axis\n",
    "plt.plot(x,y2,'r^--') # '.-' tells pyplot to plot a line connecting the points, as well as the point. \n",
    "#try changing the '.-' to '-','--','o', and 'x' to see some of the other styles you can use\n",
    "plt.xlabel('Number of Points')\n",
    "plt.ylabel('Y')\n",
    "plt.title('Title')\n",
    "plt.legend(['y = sin(x)','y = cos(x)']) # name appears in order of graphing and colors\n",
    "plt.show() # shows the figure – says the figure is complete"
   ]
  },
  {
   "cell_type": "markdown",
   "id": "9e713eb5",
   "metadata": {},
   "source": [
    "<h3 style=\"color:blue;\">Tasks\tfor\tPart\t4</h3>\n",
    "\n",
    "__4.1__\tCreate\t2\tarrays:   \n",
    "\n",
    "1.\tcontaining\tpoints\t2.3\tto\t5\tin\tsteps\tof\t0.01 – call\tit\t“x” using\t`np.arange` and\t\n",
    "2.\tcontaining\tpoints\t1\tto\t10 – call\tit\t“y” using\t`np.linspace`. You\tneed\tto\tthink\tof\tthe\tlength\tof\tx\tin\torder\tto\tconstruct\ty\tbecause\tthey\t(x\tand\ty)\tneed\tto\tbe\tthe\tsame\tlength.\tPlot\ty\tvs.\tx.\tMake\tsure\tto\tinclude\tx and\ty-axes\tlabels\tand\ta\ttitle.\t\n",
    "\n",
    "Tip: you can get the length of an array `x` by calling `len(x)`"
   ]
  },
  {
   "cell_type": "code",
   "execution_count": 18,
   "id": "8bf683ce-14ce-4eda-9da7-b993c319579b",
   "metadata": {},
   "outputs": [
    {
     "name": "stdout",
     "output_type": "stream",
     "text": [
      "[0, 1, 2, 3, 4, 5, 6, 7, 8, 9]\n",
      "The length of x is 10\n"
     ]
    }
   ],
   "source": [
    "# e.g.\n",
    "x = range(0, 10)\n",
    "print(list(x))    # to explicitly print each element\n",
    "print(\"The length of x is\", len(x))"
   ]
  },
  {
   "cell_type": "code",
   "execution_count": 9,
   "id": "19d6c8c9",
   "metadata": {},
   "outputs": [],
   "source": [
    "# your solution 4.1\n"
   ]
  },
  {
   "cell_type": "markdown",
   "id": "432dff17",
   "metadata": {},
   "source": [
    "__4.2__\tLet’s\texplore\tthe\tHill\tequation.\tWe\twill\tsee\ta\tlot\tof\tthe\thill\tfunction\tduring\tthis\tquarter.\tPlease\t\n",
    "write\ta\tscript\tfor\tthe\tHill\tequation \n",
    "\n",
    "$$Hill(Y) = \\frac{Y^n}{Y^n + K^n} $$\n",
    "\n",
    "\n",
    "- Where\t$K =\t25$ and\t$n =\t2.9$ and\tcreate\ta\tvector\t`Y`\t(fill\tit\tfrom\t0 to\t60\tin\tsteps\tof\t1).\tPlot\t`Hill(Y)`,\t\n",
    "include\taxes\tlabels\tand\ttitle.\t\n",
    "- Get\ta\tsense\tof\tthe\tequation\tby\tchanging\t$K$\tand\t$n$\t(one\tat\ta\ttime).\tChoose\t2 different\tvalues\tfor\t$K$\tand\tthen 2\tdifferent\tvalues\tfor\t$n$.\n",
    "Plot\tyour\tresults\tfor\tthe\t2\tdifferent values\tof\t$K$\ton\tone\tgraph\tand\tthose with 2 different values of $n$ on\tanother\tone.\n",
    "Please include your two choices of the parameter in the legend. Include axis labels and a title. \n",
    "   \n",
    "In\torder\tto\tput\tmultiple\tcurves\ton\tone\tgraph,\n",
    "start\tthe\tfigure\twith\t`plt.figure()`. Then you\tcan\tput\tas\tmany\t`plt.plot()`\tas you\twant\tand\tall\tthe\tcurves\twill\tshow on\tthe\tsame\tgraph.\n",
    "When you have plotted all your curves, call `plt.show()` to show the entire figure."
   ]
  },
  {
   "cell_type": "code",
   "execution_count": 10,
   "id": "dd7034ec",
   "metadata": {},
   "outputs": [],
   "source": [
    "# your solution 4.2\n"
   ]
  },
  {
   "cell_type": "markdown",
   "id": "82f39ee7",
   "metadata": {},
   "source": [
    "## Part\t5 Function\tCalls\n",
    "In\tpart\t4\tyou\tcreated\tvectors\tand\talgebraically\tsolved\tthe\tHill\tequation.\tYou\tneeded\tto\tre-type\tthe\t\n",
    "Hill\tequation\tevery\ttime\tyou\tchanged\tvariables.\t\tWe\tcan\tcreate\ta function\twhereby\tthe\tHill\t\n",
    "equation\tcan\tbe\ttyped\tonce\tat\tthe\ttop\tof\tthe and\tyou\tcan\tcall it\tas\tmany\ttimes\tas\tyou\twant\t\n",
    "without\thaving\tto\tretype\tthe\tequation within\teach\tfunction\tpart.\t\n",
    "\n",
    "__5.1__\tCreate\ta\tfunction\tnamed `Hill_Act`\t\n",
    "which\twill\tdescribe\tthe\tHill\tactivating\tfunction.\tBe\tsure\tto\tdefine\tyour\tinput\tparameters\t(K,\tn\tand\tdefine\tthe\tvector\tfor\tY).\tChoose\tthe\t\n",
    "same\tinput\tparameters\tas\tin\tthe\tfirst\tgraph\tyou\tgenerated\tin\t4.2.\tYou\twant\tto\tverify\tthat\tyour function\tcall\tis\tworking\tcorrectly\tbefore\tyou\tmove\ton.\tPlot\tyour\tresults\t(include\taxes\tlabels\tand\ttitle).\n",
    "\n"
   ]
  },
  {
   "cell_type": "code",
   "execution_count": 17,
   "id": "a4a328b1",
   "metadata": {},
   "outputs": [],
   "source": [
    "# your solution 5.1\n",
    "# write your Hill_Act function here\n",
    "\n",
    "# Re-plot 1 from 4.2 using your function\n"
   ]
  },
  {
   "cell_type": "markdown",
   "id": "c0f7dbc0",
   "metadata": {},
   "source": [
    "__5.2__\tChoose\t5\tdifferent\tvalues\tfor\tn – keeping\tK\tconstant.\n",
    "You\twill\tcall\t`Hill_Act`\tfor\teach\tnew\t\n",
    "value\tof\tn.\tPlot\tall\t5\tresults\ton\tthe\tsame\tplot\t(include\taxes\tlabels,\ttitle\tand\tlegend).\tYou\tcan\teither copy\tand\tpaste\tyour\tcode\tover\tand\tover\tagain\t5\ttimes\tto\tcall\tthe\tHill\tfunction\tfor\teach\tvalue\tof\t“n”,\t\n",
    "or\tyou\tcan\tuse\ta\tfor-loop\tto\tcall\tyour\tHill\tfunction\tfor\teach\tvalue\tof\tn. Make\tsure\tto\topen\ta\tnew\tfigure\tBEFORE\tyou\tinvoke\tthe for-loop.\tYou\twant\tall\tof\tthe\t5\tcurves\ton\tthe\tsame\tgraph.   \n",
    "Here an example to iterate over different parameter values\n",
    "\n",
    "```python\n",
    "n_vec = [values you want to choose from] # values you specifically want separated by a comma.\n",
    "\n",
    "plt.figure()\n",
    "\n",
    "for n in n_vec:\n",
    "    output= Hill_Act(X, k, n)\n",
    "    plt.plot(output, label=f\"n = {n}\")\n",
    "\n",
    "plt.show()\n",
    "```"
   ]
  },
  {
   "cell_type": "code",
   "execution_count": 14,
   "id": "180ebf01",
   "metadata": {},
   "outputs": [],
   "source": [
    "# your solution 5.2\n"
   ]
  },
  {
   "cell_type": "markdown",
   "id": "fdceec96",
   "metadata": {},
   "source": [
    "__5.3__\tChoose\t5\tdifferent\tvalues\tfor K \n",
    "keeping\tn\tconstant (back\tto\tits\toriginal\tvalue 2.9).\tYou\twill\t\n",
    "call\t`Hill_Act` for\teach\tnew\tvalue\tfor\tK.\tPlot\tall\t5\tresults\ton\tthe\tsame\tplot\t(include\taxes labels and\tlegend).\t"
   ]
  },
  {
   "cell_type": "code",
   "execution_count": 11,
   "id": "6234f70c",
   "metadata": {},
   "outputs": [],
   "source": [
    "# your solution 5.3\n"
   ]
  },
  {
   "cell_type": "markdown",
   "id": "1caed29f",
   "metadata": {},
   "source": [
    "## Part\t6 Transforming the Hill function\n",
    "\n",
    "Here,\twe\twill\texplore\tthe\teffects\tof\tother\tparameters\ton\tthe\tgraph\tof\ta\tfunction.\n",
    "\n",
    "__6.1__\tPlot\t`A*Hill(Y)`,\tthe Hill\tfunction\tyou\tstudied\tin\tpart 5 with\t`n = 3`.\t\t\n",
    "Overlay\tonto\tthe\tsame\tplot\tcurves\twith\tthree\tdifferent\tvalues\tfor\tA.\tWhat\tis\tthe\teffect\ton\tthe\tgraph\tof\tchanging\tthe\tpre-factor\tA?\t"
   ]
  },
  {
   "cell_type": "code",
   "execution_count": 12,
   "id": "5dfa4e79",
   "metadata": {},
   "outputs": [],
   "source": [
    "# your solution 6.1\n"
   ]
  },
  {
   "cell_type": "markdown",
   "id": "445ef084",
   "metadata": {},
   "source": [
    "__Edit this markdown cell to add your answer. double click here__\n",
    "\n",
    "\n",
    "    \n",
    "run this cell once you're done"
   ]
  },
  {
   "cell_type": "markdown",
   "id": "a96d6aa9",
   "metadata": {},
   "source": [
    "__6.2__\tPlot\t`Hill(Y+C)`\twith\t`n = 3`.\t\t\n",
    "Overlay\tonto\tthe\tsame\tplot\tcurves\twith\tthree\tdifferent\tvalues\tfor\tC.\t\t\n",
    "\n",
    "What\tis\tthe\teffect\tof\tchanging\tthe\tadditive\tparameter\tC?\t\n"
   ]
  },
  {
   "cell_type": "code",
   "execution_count": 13,
   "id": "6f8d24a1",
   "metadata": {},
   "outputs": [],
   "source": [
    "# your solution 6.2\n"
   ]
  },
  {
   "cell_type": "markdown",
   "id": "4b2e8aec",
   "metadata": {},
   "source": [
    "__Edit this markdown cell to add your answer__\n",
    "\n"
   ]
  }
 ],
 "metadata": {
  "kernelspec": {
   "display_name": "Python 3 (ipykernel)",
   "language": "python",
   "name": "python3"
  },
  "language_info": {
   "codemirror_mode": {
    "name": "ipython",
    "version": 3
   },
   "file_extension": ".py",
   "mimetype": "text/x-python",
   "name": "python",
   "nbconvert_exporter": "python",
   "pygments_lexer": "ipython3",
   "version": "3.12.2"
  },
  "toc": {
   "base_numbering": 1,
   "nav_menu": {},
   "number_sections": true,
   "sideBar": true,
   "skip_h1_title": true,
   "title_cell": "Table of Contents",
   "title_sidebar": "Contents",
   "toc_cell": false,
   "toc_position": {},
   "toc_section_display": true,
   "toc_window_display": true
  },
  "varInspector": {
   "cols": {
    "lenName": 16,
    "lenType": 16,
    "lenVar": 40
   },
   "kernels_config": {
    "python": {
     "delete_cmd_postfix": "",
     "delete_cmd_prefix": "del ",
     "library": "var_list.py",
     "varRefreshCmd": "print(var_dic_list())"
    },
    "r": {
     "delete_cmd_postfix": ") ",
     "delete_cmd_prefix": "rm(",
     "library": "var_list.r",
     "varRefreshCmd": "cat(var_dic_list()) "
    }
   },
   "types_to_exclude": [
    "module",
    "function",
    "builtin_function_or_method",
    "instance",
    "_Feature"
   ],
   "window_display": true
  }
 },
 "nbformat": 4,
 "nbformat_minor": 5
}
