{
 "cells": [
  {
   "cell_type": "markdown",
   "id": "c751dfc5",
   "metadata": {},
   "source": [
    "# Lab 5 Life in the Phase Plane and the Relaxation Oscillator\n",
    "\n",
    "\n",
    "> Yujia, Ethan, and Vincent adapted from materials developed by Diane and Elizabeth\n",
    "> \n",
    "> 2024/4/25 (Week 6)\n",
    "\n",
    "Edit this document directly. As you go through the notebooks you will find numbered questions. Please answer in the cells provided. \n",
    "   \n",
    "This is an individual assignment, but you are allowed (encouraged!) to work together in groups and discuss coding and\n",
    "answers. That said, you are responsible for all the material in this laboratory assignment. **DO NOT\n",
    "COPY from anyone that you work with.** You are **NOT** allowed to share code. You need to write the code\n",
    "and answer the questions yourself. Try the coding yourself first before seeking help.\n",
    "\n",
    "<div class=\"alert alert-info\" role=\"alert\">\n",
    "\n",
    "Please rename your notebook to `Lastname_Firstname_prelab#` and export it as HTML for submission\n",
    "\n",
    "__Total Points 30__\n",
    "\n",
    "__Due: 4/25 Thursday 1:30 pm (week 6)__ \n",
    "</div> \n",
    "\n",
    "If you have any questions, please do not hesitate to ask. You can find the emails and office hours of your instructors and TAs on Canvas. Best of luck!\n",
    "\n",
    "Feel free to go to the Quantitative Biosciences Center for help! \n",
    "[https://college.uchicago.edu/academics/quantitative-biosciences-center](https://college.uchicago.edu/academics/quantitative-biosciences-center) \n",
    "\n",
    "\n",
    "<div class=\"alert alert-warning\" role=\"warning\">\n",
    "\n",
    "Total points = 27\n",
    "\n",
    "1.1 = 3' Changing $\\alpha_X$ and $\\beta_X$ keeping the same ratio 1'. Vector field and nullclines 1'. Trajectories 1'\n",
    "\n",
    "1.2 = 1'\n",
    "\n",
    "1.3 = 2'\n",
    "\n",
    "1.4 = 1'\n",
    "\n",
    "1.5 = 4' Each plot is worth 1'. The student has to show trajectories going to both attractors when $\\beta_0 = 0.1$ to get another point.\n",
    "\n",
    "1.6 = 1'\n",
    "\n",
    "2.1 = 1'\n",
    "\n",
    "2.2 = 3' The vector field and nullclines 1'. The trajectory in the phase plane 1' and in time domains 1'\n",
    "\n",
    "2.3 = 2' Plot 1'. Answer the question 1'\n",
    "\n",
    "2.4 = 2' The student has to have trajectories going to both attractors to get full points\n",
    "\n",
    "3.1 = 3' The vector field and nullclines 1'. The trajectory in the phase plane 1' and in time domains 1'\n",
    "\n",
    "3.2 = 3' Integrating using SDE 1'. Showing stochastic pulsing in the phase plane and time-domain plots 2'\n",
    "\n",
    "3.3 = 1'\n",
    "    \n",
    "</div>\n",
    "\n",
    "\n"
   ]
  },
  {
   "cell_type": "markdown",
   "id": "0ccf08ae",
   "metadata": {},
   "source": [
    "## Part 1 Play with Parameters of the Double Positive Loop\n",
    "\n",
    "\n",
    "Let’s continue our investigation into the dynamics of the double-positive loop\n",
    "\n",
    "\n",
    "<img src=\"https://github.com/dschnitkey/BIOS20236/blob/main/pospos%20circuit.png?raw=true\" alt= “” width=\"300px\"/>\n",
    "\n",
    "\n",
    "$$\n",
    "\\begin{align}\n",
    "\\frac{dX}{dt} &= \\beta_X \\frac{Y^n}{Y^n + K_X^n} - \\alpha _X X\\\\\n",
    "\\frac{dY}{dt} &= \\beta_Y \\frac{X^m}{X^m + K_Y^m} - \\alpha _Y Y\n",
    "\\end{align}\n",
    "$$\n",
    "\n",
    "We'll use the parameters from the Prelab as the starting point\n",
    "\n",
    "$$\n",
    "\\begin{align}\n",
    "\\beta_X &= \\beta_Y = 2\\\\\n",
    "\\alpha_X &= \\alpha_Y = 1\\\\\n",
    "K_X &= 0.8\\\\\n",
    "K_Y &= 1\\\\\n",
    "n &= 4\\\\\n",
    "m &= 6\n",
    "\\end{align}\n",
    "$$\n",
    "\n",
    "__1.1 (3')__\n",
    "Change the value of __two parameters__ to make the $X$ dynamics much faster than the $Y$ dynamics without changing the nullclines. Print out which parameters you've changed.\n",
    "\n",
    "In the phase plane plot the following things after changing the parameters: \n",
    "(a) The vector field, (b) the X- and Y-nullclines, and (c) 6 trajectories with different initial conditions that go to both attractors.\n",
    "Limit both the X- and Y-axis between 0 and 3.\n",
    "In this question, you don't have to plot the time-domain trajectories\n",
    "\n",
    "Hints:\n",
    "\n",
    "1) Recall what determines the _response time_ in the case of a simply regulated gene. E.g. at a given $Y$ value, the dynamics of $X$ here can be understood as a simply regulated gene model. You will want a faster dynamics for $X$ which means a shorter response time.\n",
    "2) Finding the nullclines analytically may help you determine which two parameters to change together to keep the nullclines unchanged - See the Prelab video part 1\n",
    "3) This question is similar to Prelab task 2.6 in terms of the plotting techniques. Feel free to reuse the code!\n",
    "\n"
   ]
  },
  {
   "cell_type": "code",
   "execution_count": 1,
   "id": "d1bc8e69",
   "metadata": {},
   "outputs": [],
   "source": [
    "# libraries\n",
    "import numpy as np\n",
    "from scipy.integrate import odeint \n",
    "import matplotlib.pyplot as plt\n",
    "\n",
    "# RHS function of the double positive loop\n",
    "def rhs_dp(XY, t, bX, bY, n, m, KX, KY, aX, aY):\n",
    "    X,Y = XY\n",
    "    dXdt = bX*(Y**n)/(Y**n + KX**n) - aX*X\n",
    "    dYdt = bY*(X**m)/(X**m + KY**m) - aY*Y\n",
    "    return dXdt, dYdt \n",
    "\n",
    "# your solution 1.1\n"
   ]
  },
  {
   "cell_type": "markdown",
   "id": "a0b2c9e0-bacb-4f17-8f72-5983937003dd",
   "metadata": {},
   "source": [
    "__1.2 (1')__ Based on your 1.1 plot, does the basins of attraction change? Which nullcline do the trajectories follow when they are close to the attractors?"
   ]
  },
  {
   "cell_type": "markdown",
   "id": "b3076db1-2ff9-438c-9bcd-d53b46f59327",
   "metadata": {},
   "source": [
    "__Edit this cell to include your answer__\n"
   ]
  },
  {
   "cell_type": "markdown",
   "id": "93421ec5",
   "metadata": {},
   "source": [
    "__1.3 (2') Basal transcription rate.__ Return to the original parameter values.\n",
    "Now, add a constant basal transcription/production term $\\beta_0$ to the $dX/dt$ equation.\n",
    "Define a new RHS function.\n",
    "\n",
    "Then, loop through different values of $\\beta_0$ from 0.1 to 1.1 in steps of 0.2 (i.e. 0.1, 0.3, ..., 1.1).\n",
    "Overlay the nullclines with different $\\beta_0$ values.\n",
    "\n"
   ]
  },
  {
   "cell_type": "code",
   "execution_count": 2,
   "id": "5e46bf6c-9047-46db-9e27-d761e2c71555",
   "metadata": {},
   "outputs": [],
   "source": [
    "# your solution 1.3\n",
    "\n"
   ]
  },
  {
   "cell_type": "markdown",
   "id": "85eb1b21-0875-416e-98b8-91f5e5442096",
   "metadata": {},
   "source": [
    "__1.4 (1')__ Among the different values of $\\beta_0$ you used in 1.3, which value is the  closest to the _bifurcation point_?\n",
    "\n",
    "Recall that the qualitative picture of a system changes around the bifurcation point.\n",
    "Reading from the nullclines, a qualitative change happens when the _number of intersections_ between the X- and Y- nullclines changes."
   ]
  },
  {
   "cell_type": "markdown",
   "id": "35737b1d-a9b5-4581-85f1-cdd6ae6ffe01",
   "metadata": {},
   "source": [
    "__Edit this cell to include your answer__\n",
    "\n"
   ]
  },
  {
   "cell_type": "markdown",
   "id": "3eb62cec-21fd-4f7b-89fd-4b4a6d3c04de",
   "metadata": {},
   "source": [
    "__1.5 (4')__ __In this question you will plot three separate phase portraits.__\n",
    "\n",
    "Each phase portrait will use a different value of $\\beta_0$. Please use $\\beta_0 = 0.1$, $1.1$, and the value that you identified in Task 1.4.\n",
    "Please put the value of $\\beta_0$ in your figure title.\n",
    "\n",
    "Each \"phase portrait\" will include three components: __the vector field, nullclines, and trajectories__.\n",
    "In each phase portrait, you should plot 6 trajectories starting from different initial conditions. You want to strategically spread out your initial conditions in the phase plane e.g. you don't want all trajectories to start from a tiny space in the bottom left corner.\n",
    "__Set limits for X and Y from 0 to 4__."
   ]
  },
  {
   "cell_type": "code",
   "execution_count": 3,
   "id": "58658f1f-eaab-4b2a-bb09-4768afcd58a8",
   "metadata": {},
   "outputs": [],
   "source": [
    "# your solution 1.5\n",
    "\n"
   ]
  },
  {
   "cell_type": "markdown",
   "id": "ae8804c7-2fd9-4920-8d6b-b4e09b024fca",
   "metadata": {},
   "source": [
    "__1.6 (1')__ Based on your 1.4 figures, at which value(s) of $\\beta_0$ does the system __lose bistability__?"
   ]
  },
  {
   "cell_type": "markdown",
   "id": "4b47abdf-1930-4594-80c1-33956f02b7f8",
   "metadata": {},
   "source": [
    "__Edit the cell to include your answer__\n"
   ]
  },
  {
   "cell_type": "markdown",
   "id": "f196fce0",
   "metadata": {},
   "source": [
    "## Part 2 The Relaxation Oscillator \n",
    "\n",
    "Now we’ll study the rich dynamics that can come from mixing positive and negative feedback loops on different timescales. We saw a good experimental example of this in the lecture with the __ComK-ComS__\n",
    " system that regulates _B. subtilis_ entry into competence.\n",
    "\n",
    "Let’s start with the following system:\n",
    "\n",
    "<img src=\"https://github.com/dschnitkey/BIOS20236/blob/main/relaxosc.png?raw=true\" alt= “” width=\"300\">\n",
    "\n",
    "$$\n",
    "\\begin{align}\n",
    "\\frac{dX}{dt} &= Y + \\beta_x \\frac{X^n}{X^n + K^n} - \\alpha_x X\\\\\n",
    "\\frac{dY}{dt} &= \\beta_y \\frac{L^m}{X^m + L^m} - \\alpha_y Y\n",
    "\\end{align}\n",
    "$$\n",
    "\n",
    "By the way, in this model activation from X and Y and auto-actiation from X combine additively. That's additional information we need to assume that you can’t just read off from the diagram.\n",
    "\n",
    "As a starting point, we will use the following parameters:\n",
    "\n",
    "$$\n",
    "\\begin{align}\n",
    "\\beta_X &= 4\\\\\n",
    "\\beta_Y &= 1\\\\\n",
    "\\alpha_X &= 5\\\\\n",
    "\\alpha_Y &= 0.3\\\\\n",
    "K &= 0.5\\\\\n",
    "L &= 0.3\\\\\n",
    "n &= 3\\\\\n",
    "m &= 4\n",
    "\\end{align}\n",
    "$$"
   ]
  },
  {
   "cell_type": "code",
   "execution_count": 27,
   "id": "30b6f7b4-9cb8-4b88-aca8-6cc891b323ee",
   "metadata": {},
   "outputs": [],
   "source": [
    "from matplotlib import pyplot as plt\n",
    "\n",
    "def my_axes(figsize=(9, 9)):\n",
    "    \n",
    "    p, ax = plt.subplots(2, 2, figsize=figsize, gridspec_kw={'height_ratios': (3, 1),'width_ratios': (3, 1)},\n",
    "                        sharex=\"col\", sharey=\"row\")\n",
    "\n",
    "    # axis labels\n",
    "    ax[0][0].set_xlabel(\"\")\n",
    "    ax[0][0].set_ylabel(\"\")\n",
    "\n",
    "    ax[0][1].set_ylabel(\"[Y]\", rotation=0, labelpad=10.)\n",
    "    ax[0][1].yaxis.set_label_position(\"right\")\n",
    "    ax[1][0].set_xlabel(\"[X]\")\n",
    "    ax[0][1].set_xlabel(\"Time\")\n",
    "    ax[0][1].xaxis.set_label_position(\"top\")\n",
    "    ax[1][0].set_ylabel(\"Time\")\n",
    "\n",
    "    # invert time of the bottom graph\n",
    "    ax[1][0].invert_yaxis()\n",
    "\n",
    "    # nothing on the bottom right\n",
    "    ax[1][1].axis(\"off\")\n",
    "\n",
    "    # orient the axes\n",
    "    ax[0][0].tick_params(axis=\"x\", labeltop=True, bottom=False, top=True)\n",
    "    ax[0][1].tick_params(axis=\"x\", labeltop=True, bottom=False, top=True)\n",
    "    ax[0][1].tick_params(axis=\"y\", labelright=True, left=False, right=True)\n",
    "\n",
    "    # reduce padding\n",
    "    p.subplots_adjust(wspace=0.1, hspace=0.1)\n",
    "\n",
    "    return p, ax"
   ]
  },
  {
   "cell_type": "markdown",
   "id": "438a1f6c-b653-4b0c-a3e3-8aaedbe5b724",
   "metadata": {},
   "source": [
    "__2.1 (1')__ Judging from the parameters alone, what do you guess would be the __fast direction__ ($X$ or $Y$)?"
   ]
  },
  {
   "cell_type": "markdown",
   "id": "172a198c-a56e-4271-b3a4-deac79a78c2a",
   "metadata": {},
   "source": [
    "__Edit the cell to include your answer__\n",
    "\n"
   ]
  },
  {
   "cell_type": "markdown",
   "id": "b54b6679",
   "metadata": {},
   "source": [
    "__2.2 (3') The relaxation oscillator in the phase plane and as trajectories against time.__ Write down the right-hand side function of the relaxation oscillator.\n",
    "\n",
    "First, run the cell above. Use the function `my_axes` to generate a phase plane side-by-side with a blank X-t plot and a blank Y-t plot.\n",
    "Then, plot\n",
    "\n",
    "1. The vector field\n",
    "2. Nullclines\n",
    "3. Trajectory in the phase plane, in the X-t space and Y-t space with initial condition $X_0 = 1$, $Y_0 = 1$\n",
    "(You should integrate for a long enough time so that it oscillates for at least one cycle)\n",
    "\n",
    "You will find that the only attractor in the system is a __limit cycle__, i.e., after enough time no matter what the initial condition is (except at the unstable steady state) the system will follow around the cycle forever. As you've learned in class, such behavior is known as __oscillation__.\n"
   ]
  },
  {
   "cell_type": "code",
   "execution_count": 4,
   "id": "17564900-3a8b-42cf-97eb-e01ac42ea31e",
   "metadata": {},
   "outputs": [],
   "source": [
    "# your solution 2.2\n",
    "\n"
   ]
  },
  {
   "cell_type": "markdown",
   "id": "a530cad3-a75a-47b5-bba2-4d3ee9cfc5a6",
   "metadata": {},
   "source": [
    "__2.3 (2')__ Repeat 2.1 but with $\\beta_Y = 2$. \n",
    "You should integrate the trajectory for a long enough time so that it settles down.\n",
    "What _qualitative_ change do you see in the system?"
   ]
  },
  {
   "cell_type": "code",
   "execution_count": 5,
   "id": "901142f9-e284-4b12-b3fa-11c8aeb725a0",
   "metadata": {},
   "outputs": [],
   "source": [
    "# your solution 2.3\n",
    "\n"
   ]
  },
  {
   "cell_type": "markdown",
   "id": "eeb7abb0-38ae-443b-b9e8-e6ee166ac386",
   "metadata": {},
   "source": [
    "__Edit the cell to include your answer__\n",
    "\n"
   ]
  },
  {
   "cell_type": "markdown",
   "id": "27290455-56cf-4fb5-b786-ec2d4d67b0af",
   "metadata": {},
   "source": [
    "__2.4 (2')__ Repeat 2.1 but with $\\beta_Y = 0.2$ and $L = 0.8$. You should see that the system becomes bistable!\n",
    "\n",
    "Strategically pick 4 different initial conditions from where the system will end up at different steady states.\n",
    "Solve trajectories from these initial conditions and plot them\n",
    "in the plase plane, the X-t space and the Y-t space. Please plot everything (the vector field, the trajectories, etc.)\n",
    "in one multi-panel figure."
   ]
  },
  {
   "cell_type": "code",
   "execution_count": 6,
   "id": "952cc3c9-df5d-4417-ac7f-d5855634b4c7",
   "metadata": {},
   "outputs": [],
   "source": [
    "# your solution 2.4\n"
   ]
  },
  {
   "cell_type": "markdown",
   "id": "bd01d89e",
   "metadata": {},
   "source": [
    "## Part 3 The Relaxation Oscillator as a Stochastic Pulse Generator\n",
    "\n",
    "Now we will add noise to the relaxation oscillator.\n",
    "\n",
    "$$\n",
    "\\begin{align}\n",
    "\\frac{dX}{dt} &= \\gamma Y + \\beta_x \\frac{X^n}{X^n + K^n} - \\alpha_x X + A \\xi(t)\\\\\n",
    "\\frac{dY}{dt} &= \\beta_y \\frac{L^m}{X^m + L^m} - \\alpha_y Y + A \\xi(t)\n",
    "\\end{align}\n",
    "$$\n",
    "\n",
    "Where $\\xi(t)$ is a random variable with mean = 0 and variance = 1 sampled from Gaussian. This means that every time $\\xi(t)$ is sampled by the differential equation solver the production rate is perturbed by a different random number. $A$ is the noise strength i.e. how big the fluctuations are. When $A = 0$, the model falls back to a deterministic one. You can revisit Lab 4 to refresh your memory.\n",
    "\n",
    "We are also adding an additional parameter $\\gamma$ as a knob to turn the positive regulation strength from $Y$ to $X$.\n",
    "\n",
    "Please use the following parameters for coding tasks:\n",
    "\n",
    "$$\n",
    "\\begin{align}\n",
    "\\gamma &= 10\\\\\n",
    "\\beta_x &= 30\\\\\n",
    "\\beta_y &= 3\\\\\n",
    "\\alpha_x &= 40\\\\\n",
    "\\alpha_y &= 1.5\\\\\n",
    "K &= 0.6\\\\\n",
    "L &= 0.47\\\\\n",
    "n &= 5\\\\\n",
    "m &= 3\n",
    "\\end{align}\n",
    "$$\n",
    "\n"
   ]
  },
  {
   "cell_type": "markdown",
   "id": "3ec010c3-7348-4434-874b-a995100fb283",
   "metadata": {},
   "source": [
    "__3.1 (3') Close initial conditions can give very different dynamics.__ \n",
    "\n",
    "Write a new RHS function for the relaxation oscillator with the new parameter $\\gamma$. \n",
    "\n",
    "Then, use `my_axes` to generate a blank phase plane and blank X-t and Y-t plots.\n",
    "In the phase plane, plot the vector field and the X- and Y-nullclines using your new RHS function.\n",
    "\n",
    "Solve two __deterministic__ trajectories starting from $X_0 = 0.4,\\,Y_0 = 1.3$\n",
    "and $X_0 = 0.4, \\,Y_0 = 1.25$.\n",
    "Integrate the trajectories for a long enough time for them to settle at the attractor.\n",
    "Plot the trajectories in the phase plane, the X-t plot and the Y-t plot.\n",
    "Set the axis limits for both X and Y from 0 to 1.5."
   ]
  },
  {
   "cell_type": "code",
   "execution_count": 7,
   "id": "d6677bf4-7156-440d-8607-2cd57c096bff",
   "metadata": {},
   "outputs": [],
   "source": [
    "# your solution 3.1\n",
    "\n"
   ]
  },
  {
   "cell_type": "markdown",
   "id": "920a58f7-0252-436d-8b02-2f18a6d41e33",
   "metadata": {},
   "source": [
    "__3.2 (3') Stochastic Pulse Generator.__ \n",
    "As you should've seen in 3.1, the dependence of the dynamics on the initial condition is quite _sensitive_ in the neighborhood of\n",
    "the stable steady state .\n",
    "This suggests that noise can quite drastically change the dynamics around the steady state.\n",
    "\n",
    "In the phase plane, plot the vector field and the nullclines same as 3.1. Solve a noisy trajectory starting\n",
    "from $X_0 = 0.4, \\,Y_0 = 1.25$ using stochastic differential equations.\n",
    "Similar to Lab 4, you will use this `sdeint_wrapper` function defined below to access the SDE solver.\n",
    "Use noise strength $A = 0.04$ and a time span from 0 to 20.\n",
    "Overlay your noisy trajectory in the phase plane, and plot it in the X-t and the Y-t space.\n",
    "\n",
    "Feel free to try different noise strengths and see how the dynamics changes."
   ]
  },
  {
   "cell_type": "code",
   "execution_count": 128,
   "id": "11aec406-c9e4-450b-bc4d-6f589e6800ae",
   "metadata": {},
   "outputs": [],
   "source": [
    "from sdeint import itoint\n",
    "import numpy as np\n",
    "\n",
    "def sdeint_wrapper(rhs, u0, tspan, A, args):\n",
    "    # ensure the derivatives are an np array\n",
    "    sol = itoint(lambda x, t: np.array(rhs(x, t, *args)),\n",
    "                 # only allow independent noise (as a diagonal vector)\n",
    "                 # if the state variable is 1D, use a scalar A\n",
    "                 lambda x, t: A if not hasattr(x, \"__len__\") else np.diag(A*x**0),\n",
    "                 u0, tspan)\n",
    "    return sol"
   ]
  },
  {
   "cell_type": "code",
   "execution_count": 8,
   "id": "814609b2-340a-4ef7-bb8b-6e469055c0b4",
   "metadata": {},
   "outputs": [],
   "source": [
    "# your solution 3.2\n",
    "\n"
   ]
  },
  {
   "cell_type": "markdown",
   "id": "9d63eda1-2ae9-4d11-b57a-7ee48d5c0eb1",
   "metadata": {},
   "source": [
    "__3.3 (1')__ Choose which factor determines the average frequency of the pulses.\n",
    "\n",
    "A. The noise strength\n",
    "\n",
    "B. The initial condition\n",
    "\n",
    "C. The maximum integration time\n",
    "\n",
    "D. The color of my trajectory"
   ]
  },
  {
   "cell_type": "markdown",
   "id": "7d697253-5bef-49f0-a7ff-07e69adfb209",
   "metadata": {},
   "source": [
    "__Edit this cell to include your answer__\n"
   ]
  }
 ],
 "metadata": {
  "kernelspec": {
   "display_name": "Python 3 (ipykernel)",
   "language": "python",
   "name": "python3"
  },
  "language_info": {
   "codemirror_mode": {
    "name": "ipython",
    "version": 3
   },
   "file_extension": ".py",
   "mimetype": "text/x-python",
   "name": "python",
   "nbconvert_exporter": "python",
   "pygments_lexer": "ipython3",
   "version": "3.12.2"
  },
  "varInspector": {
   "cols": {
    "lenName": 16,
    "lenType": 16,
    "lenVar": 40
   },
   "kernels_config": {
    "python": {
     "delete_cmd_postfix": "",
     "delete_cmd_prefix": "del ",
     "library": "var_list.py",
     "varRefreshCmd": "print(var_dic_list())"
    },
    "r": {
     "delete_cmd_postfix": ") ",
     "delete_cmd_prefix": "rm(",
     "library": "var_list.r",
     "varRefreshCmd": "cat(var_dic_list()) "
    }
   },
   "types_to_exclude": [
    "module",
    "function",
    "builtin_function_or_method",
    "instance",
    "_Feature"
   ],
   "window_display": true
  }
 },
 "nbformat": 4,
 "nbformat_minor": 5
}
