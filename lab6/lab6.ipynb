{
 "cells": [
  {
   "cell_type": "markdown",
   "id": "404008b6-be9e-41d1-a464-789d02f45de2",
   "metadata": {},
   "source": [
    "# Lab 6 Tunable Oscillations and Hopf Bifurcation\n",
    "\n",
    "\n",
    "> Yujia, Ethan, and Vincent adapted from materials developed by Diane and Elizabeth\n",
    "> \n",
    "> 2024/5/2 and 5/3 (Week 7)\n",
    "\n",
    "Edit this document directly. As you go through the notebooks you will find numbered questions. Please answer in the cells provided. \n",
    "   \n",
    "This is an individual assignment, but you are allowed (encouraged!) to work together in groups and discuss coding and\n",
    "answers. That said, you are responsible for all the material in this laboratory assignment. **DO NOT\n",
    "COPY from anyone that you work with.** You are **NOT** allowed to share code. You need to write the code\n",
    "and answer the questions yourself. Try the coding yourself first before seeking help.\n",
    "\n",
    "<div class=\"alert alert-info\" role=\"alert\">\n",
    "\n",
    "Please rename your notebook to `Lastname_Firstname_prelab#` and export it as HTML for submission\n",
    "\n",
    "__Total Points 20 + 2 bonus points__\n",
    "\n",
    "__Due: 5/9 Thursday 1:30 pm (week 8) if you attend Thursday Lab sessions or 5/10 Friday 1:30 pm if you attend Friday Lab sessions__ \n",
    "</div> \n",
    "\n",
    "If you have any questions, please do not hesitate to ask. You can find the emails and office hours of your instructors and TAs on Canvas. Best of luck!\n",
    "\n",
    "Feel free to go to the Quantitative Biosciences Center for help! \n",
    "[https://college.uchicago.edu/academics/quantitative-biosciences-center](https://college.uchicago.edu/academics/quantitative-biosciences-center) \n",
    "\n",
    "\n"
   ]
  },
  {
   "cell_type": "markdown",
   "id": "eef1cc31",
   "metadata": {},
   "source": [
    "## Part 1 Exploring the Negative-Only Repressilator\n",
    "\n",
    "Today's lab is adapted from some analysis in the Tsai et al. 2008 paper [_Robust, Tunable Biological Oscillations from Interlinked Positive and Negative Feedback Loops_](https://www.science.org/doi/10.1126/science.1156951) published in Science. \n",
    "\n",
    "The paper is on Canvas - I recommend that you read it as it'a concise, 4-page, and insightful paper.\n",
    "This lab directly uses the model in Fig. 4A and B.\n",
    "That said, reading the paper is __not necessary__ for completing any of the tasks.\n",
    "\n",
    "![Negative only repressilator](https://raw.githubusercontent.com/yuja-liu/bios20236_2024/main/lab6/figs/negative_only_network.bmp)\n",
    "Figure by courtesy Tsai et al. 2008 Fig. 4A\n",
    "\n",
    "The focus of this lab is a pair of __repressilator__ model shown in Fig. 4A and B.\n",
    "This first variant consists of purely negative connections. Formally,\n",
    "\n",
    "$$\n",
    "\\begin{align}\n",
    "\\frac{dA}{dt} &= k_1(1-A)-\\frac{k_2C^{n1}}{K_1^{n1} + C^{n1}}A\\\\\n",
    "\\frac{dB}{dt} &= k_3(1-B)-\\frac{k_4A^{n2}}{K_2^{n2} + A^{n2}}B\\\\\n",
    "\\frac{dC}{dt} &= k_5(1-C)-\\frac{k_6B^{n3}}{K_3^{n3} + B^{n3}}C\n",
    "\\end{align}\n",
    "$$\n",
    "\n",
    "Here the ordinary differential equations describe a scenario where \n",
    "all three gene/protein, $A$, $B$, and $C$, can interconvert between an active and an inactive form.\n",
    "The state variables represent the dynamics of the active forms.\n",
    "The conversion to the active forms is _inhibited_ by another gene/protein as shown in the circuit.\n",
    "\n",
    "\n",
    "Start with a set of parameters:\n",
    "\n",
    "$$\n",
    "\\begin{align}\n",
    "k_1 &= k_3 = k_5 = 0.5\\\\\n",
    "k_2 &= k_4 = k_6 = 10\\\\\n",
    "K_1 &= K_2 = K_3 = 0.2\\\\\n",
    "n1 &= n2 = n3 = 4\n",
    "\\end{align}\n",
    "$$"
   ]
  },
  {
   "cell_type": "markdown",
   "id": "b80f23fc",
   "metadata": {},
   "source": [
    "__1.1 (1')__ Write down a right-hand side function for the repressilator model and integrate it from initial condition $A_0 = 0.1$, $B_0 = C_0 = 0$.\n",
    "Use time span from 0 to 10.\n",
    "Plot the concentration of gene/protein $A$, $B$, and $C$ against time in the same graph.\n",
    "\n",
    "__Tip:__ If you have an n-column 2D array `sol` and you want to plot each column as a different curve all in one graph, \n",
    "simply write\n",
    "\n",
    "```python\n",
    "plt.plot(tspan, sol, label=[\"name_1\", \"name_2\", ..., \"name_n\"])\n",
    "```\n",
    "\n",
    "assuming that `tspan` is an 1D array whose length is the same as the number of rows in `sol`.\n",
    "Python will interpret it as plotting each column of `sol` as a new curve - You don't have to call `plt.plot` n times!"
   ]
  },
  {
   "cell_type": "code",
   "execution_count": 1,
   "id": "feb9ea52-f310-4204-bfbf-8159a2cc6947",
   "metadata": {},
   "outputs": [],
   "source": [
    "# your solution 1.1\n",
    "\n"
   ]
  },
  {
   "cell_type": "markdown",
   "id": "1c651719-7345-409a-9a6e-5725fc7985c1",
   "metadata": {},
   "source": [
    "__1.2 (2') Different Initial Conditions.__\n",
    "Using the same parameters and time span as 1.1, solve trajectories starting from the following initial conditions\n",
    "\n",
    "$$\n",
    "(A_0, B_0, C_0) = (0.1, 0, 0),\\; (0, 0.1, 0),\\; (0.1, 0.1, 0.1),\\; (0.101, 0.1, 0.1),\\; (0.1, 0.1, 0),\\; (0, 0.2, 0.2)\n",
    "$$\n",
    "\n",
    "Plot the trajectories in the __A-B phase plane__ that means throwing away the C-dynamics and time information.\n",
    "Set the A- and B-axis to be between 0 and 0.3."
   ]
  },
  {
   "cell_type": "code",
   "execution_count": 2,
   "id": "ef666275-f3bc-44f7-b038-727b6e4c212a",
   "metadata": {},
   "outputs": [],
   "source": [
    "# your solution 1.2\n",
    "\n"
   ]
  },
  {
   "cell_type": "markdown",
   "id": "5f44b1c2-dc2b-40a7-a078-24520d6848be",
   "metadata": {},
   "source": [
    "__1.3 (2')__ In 1.2 you looked at the trajectories in the 3D _phase space_ projected to the A-B phase plane.\n",
    "Now, repeat 1.2 but project the same trajectories to the A-C phase plane."
   ]
  },
  {
   "cell_type": "code",
   "execution_count": 3,
   "id": "4a168583-f2cf-463b-8032-c59f71035334",
   "metadata": {},
   "outputs": [],
   "source": [
    "# your solution 1.3\n",
    "\n"
   ]
  },
  {
   "cell_type": "markdown",
   "id": "854d734c-2ac0-4f02-aa25-db32099bb200",
   "metadata": {},
   "source": [
    "__1.4 (1')__ You should see a steady state wrapped around by a limit cycle. Based on the trajectories, is the steady state stable? Why or why not?"
   ]
  },
  {
   "cell_type": "markdown",
   "id": "79ac00d7-12de-4025-8d8e-22659c316773",
   "metadata": {},
   "source": [
    "__Edit this cell to include your answer__\n",
    "\n"
   ]
  },
  {
   "cell_type": "markdown",
   "id": "45011853-15e0-4c31-b26a-514cdaf72e03",
   "metadata": {},
   "source": [
    "__1.5 (3') Change parameter $k_3$__ while keeping other parameters the same.\n",
    "Use a range of $k_3$ from 0 to 1.6 in steps of 0.2.\n",
    "\n",
    "For each value of $k_3$ integrate the model using time span 0 to 10 and plot $A$, $B$, and $C$ __against time__ in the same plot.\n",
    "Use initial condition $A_0 = 0.1,\\; B_0 = C_0 = 0.$\n",
    "Make a new plot for each value of $k_3$.\n",
    "Please include the value of $k_3$ in the plot title."
   ]
  },
  {
   "cell_type": "code",
   "execution_count": 4,
   "id": "204e4fcf-f0b7-40d7-a0d2-42af9fa6f54d",
   "metadata": {},
   "outputs": [],
   "source": [
    "# your solution 1.5\n",
    "\n"
   ]
  },
  {
   "cell_type": "markdown",
   "id": "ad891e6e",
   "metadata": {},
   "source": [
    "## Part 2 Positive-Plus-Negative Repressilator\n",
    "\n",
    "![Positive-and-negative repressilator](https://raw.githubusercontent.com/yuja-liu/bios20236_2024/main/lab6/figs/positive_plus_negative_network.bmp)\n",
    "Figure by courtesy Tsai et al. 2008 Fig. 4B\n",
    "\n",
    "Add a positive autoregulation to node $A$. How would this change affect the dynamics of the system aross varying $k_3$?\n",
    "\n",
    "$$\n",
    "\\begin{align}\n",
    "\\frac{dA}{dt} &= k_1(1-A)-\\frac{k_2C^{n1}}{K_1^{n1} + C^{n1}}A + k_7(1-A)\\frac{A^{n4}}{K_4^{n4} + A^{n4}}\\\\\n",
    "\\frac{dB}{dt} &= k_3(1-B)-\\frac{k_4A^{n2}}{K_2^{n2} + A^{n2}}B\\\\\n",
    "\\frac{dC}{dt} &= k_5(1-C)-\\frac{k_6B^{n3}}{K_3^{n3} + B^{n3}}C\n",
    "\\end{align}\n",
    "$$\n",
    "\n",
    "Please use these parameters:\n",
    "\n",
    "$$\n",
    "\\begin{align}\n",
    "k_1 &= 0.02\\\\\n",
    "k_3 &= k_5 = 0.5\\\\\n",
    "k_2 &= k_4 = k_6 = 10\\\\\n",
    "k_7 &= 1\\\\\n",
    "K_1 &= K_2 = K_3 = K_4 = 0.2\\\\\n",
    "n1 &= n2 = n3 = n4 = 4\n",
    "\\end{align}\n",
    "$$\n"
   ]
  },
  {
   "cell_type": "markdown",
   "id": "48f137c1-a2de-4dd0-a41e-ee82a3a3b3f2",
   "metadata": {},
   "source": [
    "__2.1 (3') How does the positive-plus-negative repressilator respond to change in $k_3$?__\n",
    "\n",
    "Repeat 1.5 but with the new network and new set of parameters.\n",
    "Use the same range of $k_3$."
   ]
  },
  {
   "cell_type": "code",
   "execution_count": 5,
   "id": "6e8004a7-c7f1-4c42-b525-70aa0a847055",
   "metadata": {},
   "outputs": [],
   "source": [
    "# your solution 2.1\n",
    "\n"
   ]
  },
  {
   "cell_type": "markdown",
   "id": "51666330-7a44-46cc-8505-8ae0ae1e249e",
   "metadata": {},
   "source": [
    "__2.2 (1')__ With the given set of parameters, which of the two networks shows a wider range of $k_3$ that\n",
    "permits oscillation?\n",
    "Within the range of $k_3$ that permits oscillation, which network shows more _tunability_,\n",
    "i.e. variability, in terms of the period?"
   ]
  },
  {
   "cell_type": "markdown",
   "id": "1a0520ae-a3da-4014-a338-7caa53be1ae8",
   "metadata": {},
   "source": [
    "__Edit this cell to include your answer__\n",
    "\n"
   ]
  },
  {
   "cell_type": "markdown",
   "id": "b514d3e0",
   "metadata": {},
   "source": [
    "## Part 3 Hopf Bifurcation\n",
    "\n",
    "A Hopf bifurcation is a critical point at which __a limit cycle collides into a steady state or a steady state gives birth to a limit cycle__\n",
    "as a parameter varies.\n",
    "\n",
    "If a _stable_ limit cycle collides into/emerges from a steady state, the bifurcation is known as a _supercritical_ Hopf bifurcation.\n",
    "In a biological context, the system transitions from converging to a biochemical equilibrium to oscillating (or vice versa) when the bifurcation happens.\n",
    "\n",
    "<img src=\"https://github.com/yuja-liu/bios20236_2024/blob/main/lab6/figs/supercritical_hopf_bifurcation.png?raw=true\" alt=\"A sketch of a supercritical Hopf bifurcation\" width=\"600px\" />\n",
    "\n",
    "If an _unstable_ limit cycle collides into/emerges from a steady state, the bifurcation is known as a _subcritical_ Hopf bifurcation.\n",
    "\n",
    "<img src=\"https://github.com/yuja-liu/bios20236_2024/blob/main/lab6/figs/subcritical_hopf_bifurcation.png?raw=true\" alt=\"A sketch of a subcritical Hopf bifurcation\" width=\"600px\" />\n",
    "\n",
    "You have solved trajectories of both repressilator models with varying $k_3$ in Part 1 and 2.\n",
    "You should've seen that if $k_3$ goes too small or too large, the oscillation disappears.\n",
    "These are instances of a Hopf bifurcation -\n",
    "Oscillatory dynamics emerges from or disappears at a Hopf bifurcation.\n",
    "\n",
    "In this part of the lab you will draw __bifurcation diagrams__ for the negative-only and the positive-plus-negative repressilator.\n",
    "In a bifurcation diagram, the steady state(s) or the limit cycle(s) of a system is plotted against a __control parameter__ which \n",
    "in this case is $k_3$.\n",
    "You have made bifurcation diagrams before in Lab 2 question 3.2 for the bistable positively autoregulated motif!\n",
    "That bifurcation diagram showed two branches of stable steady states.\n",
    "\n",
    "\n",
    "A bifurcation diagram is a great way to summarize the behavior of a system over a range of parameters.\n",
    "__Here is an example of a Hopf bifurcation diagram:__\n",
    "\n",
    "<img src=\"https://github.com/dschnitkey/BIOS20236/blob/main/hopf.png?raw=true\" alt= “” width=\"300\">\n",
    "\n",
    "The convention is to plot __the peak and trough of the oscillation__ in the _oscillatory region_.\n",
    "Outside of the oscillatory region, simply plot the steady state.\n",
    "\n"
   ]
  },
  {
   "cell_type": "markdown",
   "id": "ead2814c-8cde-4f00-ac9d-c5a6bd15394c",
   "metadata": {},
   "source": [
    "<h3 style=\"color:blue;\">Tasks for Part 3:</h3>\n",
    "\n",
    "Practically, we will follow these steps to make a Hopf bifurcation diagram:\n",
    "\n",
    "1. Integrate the system for a _long enough time_ at each value of $k_3$. The long time span is crucial because we are interested in the behavior of the system\n",
    "when it _stabilizes_ to either a steady state or a limit cycle.\n",
    "2. Find the long-term maximum and minimum of the system. If the system oscillates, the maximum and minimum are respectively the peak and trough of the oscillation. Otherwise, the maximum and minimum will be the same and we find the steady state instead!\n",
    "3. Plot the minima and maxima against the control parameter $k_3$.\n",
    "\n",
    "<img src=\"https://github.com/dschnitkey/BIOS20236/blob/main/isoscillating.png?raw=true\" alt= “” width=\"500\">\n",
    "\n",
    "The repressilator models are 3D and we only have the capacity to show one of the dimensions in the bifurcation diagram. Here we will choose to show $A$."
   ]
  },
  {
   "cell_type": "markdown",
   "id": "71a08c40-49ca-453d-a3c4-a6a84ba566c8",
   "metadata": {},
   "source": [
    "__3.1 (3')__ Complete the code to make a Hopf bifurcation diagram for the negative-only repressilator ($A$ against $k_3$).\n",
    "\n",
    "__Tips:__\n",
    "\n",
    "1. To find the smallest or the largest element in an array, use the builtin `min` or `max` function. The usage is\n",
    "\n",
    "```python\n",
    "min_value = min(my_array)\n",
    "```\n",
    "\n",
    "2. As a reminder, the syntax to append an element to a list is\n",
    "\n",
    "```python\n",
    "my_list.append(my_element)\n",
    "```\n",
    "\n",
    "3. We will throw away the first half of the trajectory and only find the minimum and maximum in the second half. This is to ensure that the trajectory stabilizes. E.g., if the trajectory contains 2000 time points, we will only use time points number 1001 to 2000."
   ]
  },
  {
   "cell_type": "code",
   "execution_count": null,
   "id": "843f2088-6f5a-4ea3-bbb9-361cee49d297",
   "metadata": {},
   "outputs": [],
   "source": [
    "# your solution 3.1\n",
    "\n",
    "# Define parameters other than k3\n",
    "k1 = k5 = 0.5\n",
    "k2 = k4 = k6 = 10\n",
    "K1 = K2 = K3 = 0.2\n",
    "n1 = n2 = n3 = 4\n",
    "\n",
    "# Define an array of different k3 values\n",
    "k3_vec = np.linspace(0, 1.6, 101)\n",
    "\n",
    "# Initialize two empty arrays to store the minima and maxima\n",
    "min_vec = []\n",
    "max_vec = []\n",
    "\n",
    "# Define time span\n",
    "LEN = 5001\n",
    "tspan = np.linspace(0, 200, LEN)\n",
    "\n",
    "# Define the initial condition\n",
    "u0 = [0.1, 0, 0]    # A0, B0, C0\n",
    "\n",
    "# Loop through k3 values\n",
    "!!complete the for command!!\n",
    "    \n",
    "    # Pack the parameters into a tuple\n",
    "    args = !!complete the code!!\n",
    "    \n",
    "    # Integrate\n",
    "    sol = odeint(!!complete here your RHS function!!, u0, tspan, args)\n",
    "\n",
    "    # Find the minimum in the A dynamics in the second half of the time span\n",
    "    !!complete the code!!\n",
    "\n",
    "    # Append the minimum to the vector of minima\n",
    "    !!complete the code!!\n",
    "\n",
    "    # Repeat the above two steps for the maximum\n",
    "    !!complete the code!!\n",
    "\n",
    "# Plot the minima and maxima against k3\n",
    "plt.figure()\n",
    "plt.plot(k3_vec, min_vec)\n",
    "plt.plot(k3_vec, max_vec)\n",
    "plt.xlabel(\"k₃\")\n",
    "plt.ylabel(\"A\")\n",
    "plt.title(\"Hopf Bifurcation Diagram of a Negative-Only Repressilator\")\n",
    "plt.show()"
   ]
  },
  {
   "cell_type": "markdown",
   "id": "7c1e8266-4e9a-4e41-b6af-59284c1df028",
   "metadata": {},
   "source": [
    "__3.2 (3')__ Complete the code to make a Hopf bifurcation diagram for the positive-plus-negative repressilator ($A$ against $k_3$)."
   ]
  },
  {
   "cell_type": "code",
   "execution_count": null,
   "id": "9b382599-3681-4a66-8c40-8520f338e2b8",
   "metadata": {},
   "outputs": [],
   "source": [
    "# your solution 3.2\n",
    "\n",
    "# Define parameters other than k3\n",
    "k5 = 0.5\n",
    "k2 = k4 = k6 = 10\n",
    "K1 = K2 = K3 = K4 = 0.2\n",
    "n1 = n2 = n3 = n4 = 4\n",
    "k1 = 0.02\n",
    "k7 = 1\n",
    "\n",
    "# Define an array of different k3 values\n",
    "k3_vec = np.linspace(0, 1.6, 101)\n",
    "\n",
    "# Initialize two empty arrays to store the minima and maxima\n",
    "min_vec2 = []\n",
    "max_vec2 = []\n",
    "\n",
    "# Define time span\n",
    "LEN = 5001\n",
    "tspan = np.linspace(0, 200, LEN)\n",
    "\n",
    "# Define the initial condition\n",
    "u0 = [0.1, 0, 0]    # A0, B0, C0\n",
    "\n",
    "# Loop through k3 values\n",
    "!!complete the for command!!\n",
    "    \n",
    "    # Pack the parameters into a tuple\n",
    "    args = !!complete the code!!\n",
    "    \n",
    "    # Integrate\n",
    "    sol = odeint(!!compete here your RHS function!!, u0, tspan, args)\n",
    "\n",
    "    # Find the minimum in the A dynamics in the second half of the time span\n",
    "    !!complete the code!!\n",
    "\n",
    "    # Append the minimum to the vector of minima\n",
    "    !!complete the code!!\n",
    "\n",
    "    # Repeat the above two steps for the maximum\n",
    "    !!complete the code!!\n",
    "\n",
    "# Plot the minima and maxima against k3\n",
    "plt.figure()\n",
    "plt.plot(k3_vec, min_vec2)\n",
    "plt.plot(k3_vec, max_vec2)\n",
    "plt.xlabel(\"k₃\")\n",
    "plt.ylabel(\"A\")\n",
    "plt.title(\"Hopf Bifurcation Diagram of a Positive-Plus-Negative Repressilator\")\n",
    "plt.show()"
   ]
  },
  {
   "cell_type": "markdown",
   "id": "b299c6f0-c3c2-4055-a4e5-f1ca337837f8",
   "metadata": {},
   "source": [
    "__3.3 Amplitude v. $k_3$ (1')__ Plot the peak-to-trough amplitude of the negative-only and the positive-plus-negative repressilators in the same graph.\n",
    "Mark which curve corresponds to which model in the legend.\n",
    "\n",
    "You can get the peak-to-trough amplitude by finding the difference between the long-term maximum and minimum of the A-dynamics.\n",
    "When the system doesn't oscillate, consider the amplitude as 0."
   ]
  },
  {
   "cell_type": "code",
   "execution_count": 6,
   "id": "aa9ed10d-5a37-47b7-af28-ad71380c68b0",
   "metadata": {},
   "outputs": [],
   "source": [
    "# your solution 3.3\n",
    "\n"
   ]
  },
  {
   "cell_type": "markdown",
   "id": "0b468764-943f-4abb-927a-a3bbb6efa77e",
   "metadata": {},
   "source": [
    "__3.4 (Bonus points 2') Find the Hopf Points.__\n",
    "Based on the array of minima and maxima you've found in 3.1,\n",
    "find the smallest and largest $k_3$ value that permits oscillation for the __negative-only network__.\n",
    "These are the values of $k_3$ where the Hopf bifurcation occurs and the specific parameter values are called the _Hopf points_.\n",
    "\n",
    "Use `THRESHOLD = 1e-3`. We consider that the system oscillates if the peak-to-trough amplitude is greater than the threshold.\n",
    "\n",
    "Scan through the array of minima and maxima. Find the first and the last index where the oscillation sustains.\n",
    "Then, find the values of $k_3$ at these indices. Print the values out."
   ]
  },
  {
   "cell_type": "code",
   "execution_count": 7,
   "id": "c7d35f8c-25c9-44e9-b941-a2e84f85e589",
   "metadata": {},
   "outputs": [],
   "source": [
    "# your solution 3.4\n",
    "\n"
   ]
  }
 ],
 "metadata": {
  "kernelspec": {
   "display_name": "Python 3 (ipykernel)",
   "language": "python",
   "name": "python3"
  },
  "language_info": {
   "codemirror_mode": {
    "name": "ipython",
    "version": 3
   },
   "file_extension": ".py",
   "mimetype": "text/x-python",
   "name": "python",
   "nbconvert_exporter": "python",
   "pygments_lexer": "ipython3",
   "version": "3.12.2"
  },
  "varInspector": {
   "cols": {
    "lenName": 16,
    "lenType": 16,
    "lenVar": 40
   },
   "kernels_config": {
    "python": {
     "delete_cmd_postfix": "",
     "delete_cmd_prefix": "del ",
     "library": "var_list.py",
     "varRefreshCmd": "print(var_dic_list())"
    },
    "r": {
     "delete_cmd_postfix": ") ",
     "delete_cmd_prefix": "rm(",
     "library": "var_list.r",
     "varRefreshCmd": "cat(var_dic_list()) "
    }
   },
   "types_to_exclude": [
    "module",
    "function",
    "builtin_function_or_method",
    "instance",
    "_Feature"
   ],
   "window_display": true
  }
 },
 "nbformat": 4,
 "nbformat_minor": 5
}
