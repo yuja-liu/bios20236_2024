{
 "cells": [
  {
   "cell_type": "markdown",
   "id": "df963883",
   "metadata": {},
   "source": [
    "# Lab 7 Viral Infection Dynamics\n",
    "\n",
    "\n",
    "> Yujia, Ethan, and Vincent adapted from materials developed by Diane and Elizabeth\n",
    "> \n",
    "> 2024/5/9 and 5/10 (Week 8)\n",
    "\n",
    "Edit this document directly. As you go through the notebooks you will find numbered questions. Please answer in the cells provided. \n",
    "   \n",
    "This is an individual assignment, but you are allowed (encouraged!) to work together in groups and discuss coding and\n",
    "answers. That said, you are responsible for all the material in this laboratory assignment. **DO NOT\n",
    "COPY from anyone that you work with.** You are **NOT** allowed to share code. You need to write the code\n",
    "and answer the questions yourself. Try the coding yourself first before seeking help.\n",
    "\n",
    "<div class=\"alert alert-info\" role=\"alert\">\n",
    "\n",
    "Please rename your notebook to `Lastname_Firstname_prelab#` and export it as HTML for submission\n",
    "\n",
    "__Total Points 23 + 3 bonus points__\n",
    "\n",
    "__Due: 5/16 Thursday 1:30 pm (week 9) if you attend Thursday Lab sessions or 5/17 Friday 1:30 pm if you attend Friday Lab sessions__ \n",
    "</div> \n",
    "\n",
    "If you have any questions, please do not hesitate to ask. You can find the emails and office hours of your instructors and TAs on Canvas. Best of luck!\n",
    "\n",
    "Feel free to go to the Quantitative Biosciences Center for help! \n",
    "[https://college.uchicago.edu/academics/quantitative-biosciences-center](https://college.uchicago.edu/academics/quantitative-biosciences-center) \n",
    "\n",
    "<!--\n",
    "<div class=\"alert alert-warning\" role=\"warning\">   \n",
    "    \n",
    "Total points = 23 + 3 bonus points\n",
    "\n",
    "1.1 = 1'\n",
    "\n",
    "1.2 = 2' Finding the closed-form solution for the nullclines 1'. Plotting 1'\n",
    "\n",
    "1.3 = 1'\n",
    "\n",
    "1.4 = 1'\n",
    "\n",
    "1.5 = 3'\n",
    "\n",
    "1.6 = 1' Identifying stability 0.5'. Distinguishing between clearance and persistence 0.5'\n",
    "\n",
    "1.7 = 2'\n",
    "\n",
    "2.1 = 3' 1' for each subplot\n",
    "\n",
    "2.2 = 1'\n",
    "\n",
    "3.1 = 1'\n",
    "\n",
    "3.2 = 2' Use negative time span 1'. Correctly plot the stable manifolds 1'\n",
    "\n",
    "3.3 = 2' Plot 1'. Answer 1'\n",
    "\n",
    "3.4 = 2'\n",
    "\n",
    "3.5 = 1'\n",
    "\n",
    "3.6 = 3' (Bonus)\n",
    "        \n",
    "</div>   \n",
    "-->\n"
   ]
  },
  {
   "cell_type": "markdown",
   "id": "627f83e7-e22e-424a-8866-05890c96003a",
   "metadata": {},
   "source": [
    "In this lab we will walk you through how to reproduce a subset of the analysis found in\n",
    "the paper by Baral et.al., [A dynamical motif comprising the interactions between antigens and CD8 T cells may underlie the outcomes of viral infections](https://www.pnas.org/doi/full/10.1073/pnas.1902178116) published in PNAS in 2019. \n",
    "\n",
    "The paper is on Canvas - please read it. Though __reading the paper is not necessary to answer any of the questions.__\n",
    "\n",
    "The paper analyzes a minimal network motif that captures the interaction of __infected cells__ that present antigens with __CD8 T cells__ that destroy the infected cells. \n",
    "The interplay between infection and clearing of the infection presents the systems with __3 outcomes: 1) clearing the infection, 2) persisting infection, and 3) immunopathological mortality and/or tissue damage__.\n",
    "\n",
    "There could be numerous factors that decide the outcomes of a viral infection, but in this paper Baral et al. argued that their motif\n",
    "captures crucial aspects of a viral infection dynamics which is how it depends on the viral inoculum and effector CD8 T cell pool size.\n"
   ]
  },
  {
   "cell_type": "markdown",
   "id": "aa83965c-84a5-4fc5-ac1f-6e02d4272d9d",
   "metadata": {},
   "source": [
    "## Part 1 Phase Portait of the Minimal Viral Infection Model\n",
    "\n",
    "![The original 2D model](https://github.com/yuja-liu/bios20236_2024/blob/main/lab7/figs/2D_motif.png?raw=true)\n",
    "\n",
    "(Baral et al. 2019 Fig. 1A)\n",
    "\n",
    "The minimal model proposed by Baral et al. describes the interplay between infected cells and CD8 T cells:\n",
    "\n",
    "$$\n",
    "\\begin{align}\n",
    "\\text{(infected cells)}\\qquad \\frac{dI}{dt} &= k_1I(1 - \\frac{I}{I_{max}}) - k_2IE\\\\\n",
    "\\text{(CD8 response)}\\qquad \\frac{dE}{dt} &= k_3\\frac{IE}{K_{p}+I} - k_4\\frac{IE}{K_e + I}\n",
    "\\end{align}\n",
    "$$\n",
    "\n",
    "Notably, the infected cells are assumed to have pleiotropic effects on the CD8 T cells.\n",
    "The antigens presented by the infected cells stimulate CD8 T cell activity.\n",
    "However, if the infection persists, CD8 T cell activity is suppressed, a phenomenon known as _exhaustion_.\n",
    "\n",
    "### Nondimensionalization\n",
    "\n",
    "Nondimensionalization is a mathematical trick to _scale_ the state variables into a different unit.\n",
    "By doing so some parameters can be _absorbed_ into the units which simplifies the model.\n",
    "__Nondimensionalization is often your first step to approach a complex model__\n",
    "(though in the lectures it was glossed over probably because we mainly deal with simple models).\n",
    "\n",
    "To nondimensionalize the viral infection model, we want to scale both $I$ and $E$ by the carrying capacity of\n",
    "infected cells, $I_{max}$.\n",
    "\n",
    "Let $I' = I/I_{max}$ and $E' = E/I_{max}$. Devide both sides of the original equations by $I_{max}$, we have\n",
    "\n",
    "$$\n",
    "\\begin{align}\n",
    "\\frac{dI'}{dt} &= k_1I'(1 - I') - k_2 I_{max}I'E'\\\\\n",
    "\\frac{dE'}{dt} &= k_3\\frac{I'E'}{K_p/I_{max}+I'} - k_4\\frac{I'E'}{K_e/I_{max} + I'}\n",
    "\\end{align}\n",
    "$$\n",
    "\n",
    "Then, let's redefine several of our parameters.\n",
    "Let $k_2' = k_2\\cdot I_{max}$, $K_p' = K_{p}/I_{max}$, and $K_e' = K_{e}/I_{max}$. Plug the new parameters in, we have\n",
    "\n",
    "$$\n",
    "\\begin{align}\n",
    "\\frac{dI'}{dt} &= k_1I'(1 - I') - k_2'I'E'\\\\\n",
    "\\frac{dE'}{dt} &= k_3\\frac{I'E'}{K_p'+I'} - k_4\\frac{I'E'}{K_e' + I'}\n",
    "\\end{align}\n",
    "$$\n",
    "\n",
    "As you can see, the nondimensionalization effort absorbs the parameter $I_{max}$ in to the unit of the number of cells.\n",
    "Finally, we can throw away the prime symbols if we don't mix use the new and old versions:\n",
    "\n",
    "$$\n",
    "\\begin{align}\n",
    "\\frac{dI}{dt} &= k_1I(1 - I) - k_2IE\\\\\n",
    "\\frac{dE}{dt} &= k_3\\frac{IE}{K_p + I} - k_4\\frac{IE}{K_e + I}\n",
    "\\end{align}\n",
    "$$\n",
    "\n",
    "__All analysis in this lab will base on these nondimensionalized equations.__ Keep in mind that,\n",
    "e.g., the new $I$ is the old $I$ divided by $I_{max}$.\n",
    "In the paper Baral et al. made the scaling of the variables explicit.\n",
    "\n"
   ]
  },
  {
   "cell_type": "markdown",
   "id": "dd794f9e-fb6f-426b-95fa-e76cf3a08024",
   "metadata": {},
   "source": [
    "Use these parameters as reported in the paper. They are the new versions and that's why some of them are scaled by $I_{max}$\n",
    "(but you don't need $I_{max}$ in the right-hand side function, of course).\n",
    "\n",
    "$$\n",
    "\\begin{gather}\n",
    "I_{max} = 10^6\\\\\n",
    "k_1 = 1.3\\\\\n",
    "k_2 = I_{max}\\cdot5\\times10^{-5}\\\\\n",
    "k_3 = 1\\\\\n",
    "k_4 = 3\\\\\n",
    "K_p = 10/I_{max}\\\\\n",
    "K_e = 2\\times10^5/I_{max}\n",
    "\\end{gather}\n",
    "$$\n",
    "\n",
    "You can conveniently write very big or very small numbers in Python with the __scientific notation__. The scientific notation\n",
    "denotes numbers as multiples of a power of 10. E.g. You can write 0.005 as `5e-3` in Python."
   ]
  },
  {
   "cell_type": "markdown",
   "id": "f7aabeaa-2daf-4b7d-8469-473eb2cb1c24",
   "metadata": {},
   "source": [
    "__1.1 (1') Nullclines.__ Plot the $I$-nullcline in blue and the $E$-nullcline in green using `pyplot.contour`."
   ]
  },
  {
   "cell_type": "code",
   "execution_count": 1,
   "id": "982a9750-bbcf-416d-8803-757cb98ee144",
   "metadata": {},
   "outputs": [],
   "source": [
    "# your solution 1.1\n",
    "\n"
   ]
  },
  {
   "cell_type": "markdown",
   "id": "93be9773-bd85-4fb0-aaf4-df95c132f6fc",
   "metadata": {},
   "source": [
    "__1.2 (2') Actually correct nullclines.__ It is a common theme for tissue level networks to have nullclines overlapping with the axes.\n",
    "In this case, the system admits multiple $I$-nullclines and multiple $E$-nullclines, which is challenging for `pyplot.contour` to draw.\n",
    "\n",
    "Analytically solve the nullclines by setting $dI/dt = 0$ or $dE/dt = 0$.\n",
    "Plot the nullclines from your closed-form solutions (hint: `pyplot.contour` plotted only a subset of the nullclines).\n",
    "\n",
    "__A note on styles:__ Some nullclines may overlap. To help you see them, you can make some of the lines as dashed and/or\n",
    "change the opacity by using the `alpha` argument when plotting."
   ]
  },
  {
   "cell_type": "code",
   "execution_count": 2,
   "id": "de9fc0b1-95b9-4dae-a625-f846497f9e65",
   "metadata": {},
   "outputs": [],
   "source": [
    "# your solution 1.2\n",
    "\n"
   ]
  },
  {
   "cell_type": "markdown",
   "id": "69d4f149-2a75-46f8-b75a-255a259d55f6",
   "metadata": {},
   "source": [
    "__1.3 (1')__ How many steady states are there? Qualitatively point out where they are."
   ]
  },
  {
   "cell_type": "markdown",
   "id": "253ee929-ef0b-48c3-ba50-e4465f080425",
   "metadata": {},
   "source": [
    "__Edit this cell to include your answer__\n",
    "\n"
   ]
  },
  {
   "cell_type": "markdown",
   "id": "4839847d-5d12-4150-a47c-1481e4aed936",
   "metadata": {},
   "source": [
    "__1.4 (1') Plot in log scale.__ Much of the dynamics happens close to the axes. \n",
    "That's why we want to plot in a log scale to zoom in on the small numbers.\n",
    "\n",
    "We can transform the horizontal axis to log scale by calling\n",
    "\n",
    "```python\n",
    "plt.xcale(\"log\")\n",
    "```\n",
    "\n",
    "However, since we have nullcline(s) on $I = 0$ or $E = 0$ and since we cannot take the logarithm of 0,\n",
    "we want to use a `symlog` scale instead.\n",
    "A \"symlog\" scale stitches a linear scale in a small neighborhood around 0 and a logarithm scale everywhere else\n",
    "(see [this example](https://matplotlib.org/stable/gallery/scales/symlog_demo.html)).\n",
    "You can set the range of the linear scale by passing the `linthresh` argument.\n",
    "E.g., to transform the horizontal axis to a symlog scale, call\n",
    "\n",
    "```python\n",
    "plt.xcale(\"symlog\", linthresh=a small enough number)\n",
    "```\n",
    "\n",
    "A useful function to make plots in the log space is `np.logspace`, a cousin of `np.linspace`. \n",
    "The `logspace` function takes the start and the end position as 10-base exponents and returns\n",
    "an array evenly spaced in the log scale.\n",
    "E.g. to make an array comprising 0.001, 0.01, 0.1, 1, and 10, call\n",
    "\n",
    "```python\n",
    "np.logspace(-3, 1, 5)\n",
    "```\n",
    "\n",
    "Replot the nullclines in 1.3 and transform both axes to a symlog scale. Use range $-1\\times10^{-7}$ to 2 for both axes."
   ]
  },
  {
   "cell_type": "code",
   "execution_count": 3,
   "id": "eb8b0d2b-dfe2-4490-8c72-efca6dba63bb",
   "metadata": {},
   "outputs": [],
   "source": [
    "# your solution 1.4\n",
    "\n"
   ]
  },
  {
   "cell_type": "markdown",
   "id": "65edfa91-a240-4ed0-86c7-dfc92491ae3b",
   "metadata": {},
   "source": [
    "__1.5 (3') Stability of the steady states.__ To answer it, first solve trajectories from multiple (> 1) initial conditions.\n",
    "Use a reasonable time span so that the trajectories settle at steady states but not for too long.\n",
    "\n",
    "Here are some recommendations but feel free to try any initial condition you like\n",
    "$$\n",
    "(I_0, E_0) = (1e-6, 1e-5),\\, (1e-6, 1e-4),\\, (1e-6, 1.5e-5),\\, (1e-6, 1e-3),\\,\n",
    "           (1e-5, 0.05),\\, (1e-4, 1e-5),\\, (1, 0.05),\\, (1, 0.1)\n",
    "           $$\n",
    "\n",
    "Plot the trajectories in the phase plane as well as the time spaces.\n",
    "Call the helper function below to construct the subplots. Additionally, use the arguments of `my_axes` to label the axes.\n",
    "\n",
    "Overlay the nullclines from 1.4 in the phase plane. Use symlog scale for the I- and E-axis."
   ]
  },
  {
   "cell_type": "code",
   "execution_count": 429,
   "id": "4b0efbb2-4f3e-499d-b1ba-31d7f9bb197a",
   "metadata": {},
   "outputs": [],
   "source": [
    "def my_axes(figsize=(9, 9), xlabel=\"[X]\", ylabel=\"[Y]\", tlabel=\"Time\"):\n",
    "    \n",
    "    p, ax = plt.subplots(2, 2, figsize=figsize, gridspec_kw={'height_ratios': (3, 1),'width_ratios': (3, 1)},\n",
    "                        sharex=\"col\", sharey=\"row\")\n",
    "\n",
    "    # axis labels\n",
    "    ax[0][0].set_xlabel(\"\")\n",
    "    ax[0][0].set_ylabel(\"\")\n",
    "\n",
    "    ax[0][1].set_ylabel(ylabel, rotation=0, labelpad=10.)\n",
    "    ax[0][1].yaxis.set_label_position(\"right\")\n",
    "    ax[1][0].set_xlabel(xlabel)\n",
    "    ax[0][1].set_xlabel(tlabel)\n",
    "    ax[0][1].xaxis.set_label_position(\"top\")\n",
    "    ax[1][0].set_ylabel(tlabel)\n",
    "\n",
    "    # invert time of the bottom graph\n",
    "    ax[1][0].invert_yaxis()\n",
    "\n",
    "    # nothing on the bottom right\n",
    "    ax[1][1].axis(\"off\")\n",
    "\n",
    "    # orient the axes\n",
    "    ax[0][0].tick_params(axis=\"x\", labeltop=True, bottom=False, top=True)\n",
    "    ax[0][1].tick_params(axis=\"x\", labeltop=True, bottom=False, top=True)\n",
    "    ax[0][1].tick_params(axis=\"y\", labelright=True, left=False, right=True)\n",
    "\n",
    "    # reduce padding\n",
    "    p.subplots_adjust(wspace=0.1, hspace=0.1)\n",
    "\n",
    "    return p, ax"
   ]
  },
  {
   "cell_type": "code",
   "execution_count": 4,
   "id": "0066ffbc-089a-42a1-9b5c-7683c96ed43a",
   "metadata": {},
   "outputs": [],
   "source": [
    "# your answer 1.5\n",
    "\n"
   ]
  },
  {
   "cell_type": "markdown",
   "id": "e80e6b2a-3fce-464b-a958-11a6f85792ec",
   "metadata": {},
   "source": [
    "__1.6 (1')__ Quantitatively, where are the stable steady states? Among those, which represents clearance (i.e. no infected cells)\n",
    "and which represents persistent infection?"
   ]
  },
  {
   "cell_type": "markdown",
   "id": "a8cdc0ca-b8ab-4601-a982-dcfa5c0c485d",
   "metadata": {},
   "source": [
    "__Edit this cell to include your answer__\n",
    "\n"
   ]
  },
  {
   "cell_type": "markdown",
   "id": "ee4d087a-bcc0-4d6e-8c83-d24aeba4332f",
   "metadata": {},
   "source": [
    "__1.7 (2')__ Repeat 1.5 with initial conditions\n",
    "\n",
    "$$\n",
    "(I_0, E_0) = (1e-6, 1e-4),\\,\n",
    "          (1e-4, 1e-4),\\,\n",
    "          (1e-2, 1e-4)\n",
    "          $$\n",
    "\n",
    "Based on the steady states they reach, comment on how increasing viral inoculum changes the outcomes of infection."
   ]
  },
  {
   "cell_type": "code",
   "execution_count": 5,
   "id": "2bc14b66-5cef-4219-8e7e-f7017dc6bcff",
   "metadata": {},
   "outputs": [],
   "source": [
    "# your solution 1.7\n",
    "\n"
   ]
  },
  {
   "cell_type": "markdown",
   "id": "5424a559-d806-4972-a868-0122e226d776",
   "metadata": {},
   "source": [
    "__Edit this cell to include your answer__\n",
    "\n"
   ]
  },
  {
   "cell_type": "markdown",
   "id": "fb1ee86e-b2f5-4f01-8509-a455eb66ca5c",
   "metadata": {},
   "source": [
    "## Part 2 Exploring Immunopathology\n",
    "\n",
    "\n",
    "__2.1 (3')__ First, make a new RHS function to include the dynamics of immunopathology, $P$.\n",
    "$P$ has a 2nd-order production term meaning that immunopathology arises from the interation between infected cells and CD8 T cells.\n",
    "\n",
    "$$\n",
    "\\frac{dP}{dt} = \\alpha I E - d_c P\n",
    "$$\n",
    "\n",
    "As described in the paper, use parameter (here we have a new scaled version of $\\alpha$)\n",
    "\n",
    "$$\n",
    "\\begin{gather}\n",
    "\\alpha = I_{max}^2 \\times10^{-8}\\\\\n",
    "d_c = 1\n",
    "\\end{gather}\n",
    "$$\n",
    "\n",
    "Integrate from the same initial condition as 1.7. $P$ starts from 0. Plot the dynamics of\n",
    "$I$, $E$, and $P$ in three separate graphs against time. \n",
    "Overlay the traces from different initial conditions in the same graph.\n",
    "Label the three curves as Low, Medium, and High viral inoculum."
   ]
  },
  {
   "cell_type": "code",
   "execution_count": 6,
   "id": "ac69c4ef-39f1-49a0-8594-eee9020b43a2",
   "metadata": {},
   "outputs": [],
   "source": [
    "# your solution 2.1\n",
    "\n"
   ]
  },
  {
   "cell_type": "markdown",
   "id": "3431d174-5b2c-4e2a-b78b-0f4b5e49863b",
   "metadata": {},
   "source": [
    "__2.2 (1')__ Assume that the host dies of immunopathology if and only if the system reaches threshold $P = 10$. \n",
    "Which of the three viral inoculum kills the host?"
   ]
  },
  {
   "cell_type": "markdown",
   "id": "138cd653-e202-4d7c-b84e-1afdeaea7c62",
   "metadata": {},
   "source": [
    "__Edit this cell to include your answer__\n"
   ]
  },
  {
   "cell_type": "markdown",
   "id": "a87fd34f-56f9-4152-a12b-8951d2b27058",
   "metadata": {},
   "source": [
    "## Part 3 Reversing Viral Persistence\n",
    "\n",
    "With one of the viral inocula the system hugs the __separatrix__ all the way to very close to the __saddle point__ until it commits to one of the fates.\n",
    "This dynamical system's view explains why such initial condition gives high infected cell-CD8 T cell interaction for a long time and,\n",
    "thus, high immunopathology.\n",
    "\n",
    "In this part we are interested in numerically finding the separatrix between the basins of attraction for clearance and persistence.\n",
    "How? Mathematically speaking, if a system starts right on the separatrix, it will travel along the separatrix until it hits the saddle and stays there forever\n",
    "(this will never happen biologically due to noise).\n",
    "For this reason, the separatrix is also the __stable manifold__ of the saddle.\n",
    "\n",
    "Conversely, if the system starts right on an __unstable manifold__ of the saddle, it will travel away from the saddle.\n",
    "Let's first find the unstable manifold by integrating from a pair of initial conditions right next to the saddle.\n",
    "\n",
    "The saddle point is at\n",
    "\n",
    "$$\n",
    "\\begin{align}\n",
    "I_{saddle} &= \\frac{k_3 K_e - k_4 K_p}{k_4 - k_3}\\\\\n",
    "E_{saddle} &= \\frac{k_1}{k_2}(1 - I_{saddle})\n",
    "\\end{align}\n",
    "$$"
   ]
  },
  {
   "cell_type": "markdown",
   "id": "6793d4fd-cb29-4906-ae0c-ef3315e229c8",
   "metadata": {},
   "source": [
    "__3.1 (1') Unstable manifolds.__ \n",
    "\n",
    "Integrate the system from a pair of initial conditions, $(I_{saddle} \\pm 10^{-6}, E_{saddle})$.\n",
    "Plot the trajectories in the phase plane. These are (approximately) the unstable manifolds of the saddle point.\n",
    "Mark the saddle point with a big dot.\n",
    "\n",
    "You don't have to include the nullclines. Use a _log scale_ for both axes and limit them between $1\\times10^{-7}$ and 2."
   ]
  },
  {
   "cell_type": "code",
   "execution_count": 7,
   "id": "af1651b1-93a6-4a1b-bfae-3c644f9fe033",
   "metadata": {},
   "outputs": [],
   "source": [
    "# your solution 3.1\n",
    "\n"
   ]
  },
  {
   "cell_type": "markdown",
   "id": "df585b33-7f3f-4bff-81e7-e9a2c594b9df",
   "metadata": {},
   "source": [
    "__3.2 (2') Stable manifolds.__ If one runs time backwards, a system starting right on the __stable manifold__ would travel away from the saddle.\n",
    "\n",
    "Use initial condition $(I_{saddle}, E_{saddle} \\pm 10^{-6})$, boldly integrate from time = 0 to -30. \n",
    "The trajectories are the stable manifolds. Plot them together with the unstable manifolds. Label which are the stable and unstable ones.\n",
    "\n",
    "__Tip:__ There may be numerical instability when integrating backward in time, in which case try to use a shorter time span to limit the propagation of errors."
   ]
  },
  {
   "cell_type": "code",
   "execution_count": 8,
   "id": "5250912e-1d62-4a6a-a70e-62d8625cc790",
   "metadata": {},
   "outputs": [],
   "source": [
    "# your solution 3.2\n",
    "\n"
   ]
  },
  {
   "cell_type": "markdown",
   "id": "5559b909-df8e-425f-bbb6-8945bf3d1cb8",
   "metadata": {},
   "source": [
    "__3.3 (2')__ Reuse your 1.5 code to overlay some trajectories onto the manifolds plot. You don't have to include the time space plots.\n",
    "The plot should capture the essence of Fig. 1B.\n",
    "\n",
    "The stable and unstable manifolds cut the I-E plane into four quadrants.\n",
    "Based on the plot, which of the quadrants are the basin of attraction for the _clearance_ outcome? Where is the separatrix?"
   ]
  },
  {
   "cell_type": "code",
   "execution_count": 9,
   "id": "ee8eac2c-cc0e-473b-8b1c-da0c43e116bc",
   "metadata": {},
   "outputs": [],
   "source": [
    "# your solution 3.3\n",
    "\n"
   ]
  },
  {
   "cell_type": "markdown",
   "id": "12f0acf2-623f-4641-aae4-ddb83d350319",
   "metadata": {},
   "source": [
    "__Edit this cell to include your answer__\n",
    "\n"
   ]
  },
  {
   "cell_type": "markdown",
   "id": "0f7085e1-a326-4e5b-84c6-f8ba6ba5584a",
   "metadata": {},
   "source": [
    "__3.4 (2')__ Change $k_3$ to 1.5. This models increse in CD8 T cell activation by antigens.\n",
    "\n",
    "Plot the new stable and unstable manifolds\n",
    "together with the original ones. Draw the original ones as dashed lines."
   ]
  },
  {
   "cell_type": "code",
   "execution_count": 10,
   "id": "6dbef821-580b-4aea-a5ab-d71fd9bb2ac5",
   "metadata": {},
   "outputs": [],
   "source": [
    "# your solution 3.4\n",
    "\n"
   ]
  },
  {
   "cell_type": "markdown",
   "id": "0989e78a-f139-461f-bd39-9b333736b80c",
   "metadata": {},
   "source": [
    "__3.5 (1')__ With the original parameters, if a system starts close enough to the stable manifold, what will be its fate?\n",
    "\n",
    "What will be its new fate with the new parameter?"
   ]
  },
  {
   "cell_type": "markdown",
   "id": "6f8a2c4f-d1b7-4a15-a3d1-971f0ffecb35",
   "metadata": {},
   "source": [
    "__Edit this cell to include your answer__\n",
    "\n"
   ]
  },
  {
   "cell_type": "markdown",
   "id": "4c30d588-845e-4513-b4b8-cb1f874c5684",
   "metadata": {},
   "source": [
    "__3.6 (Bonus points 3') Innate Immnune Response.__\n",
    "\n",
    "In later part of the paper the authors keep building onto the minimal motif with innate immune response\n",
    "\n",
    "![The original 2D model](https://github.com/yuja-liu/bios20236_2024/blob/main/lab7/figs/innate_immune_response.png?raw=true)\n",
    "\n",
    "(Baral et al. 2019 Fig. 4A)\n",
    "\n",
    "Which is described by ODEs\n",
    "\n",
    "$$\n",
    "\\begin{align}\n",
    "\\frac{dI}{dt} &= k_1 \\left( 1 - \\epsilon\\frac{X}{\\phi_X + X}\\right) I (1 - I) - k_2 I E\\\\\n",
    "\\frac{dE}{dt} &= k_3 \\frac{I E}{K_p + I} - k_4 \\frac{I E}{K_e + I}\\\\\n",
    "\\frac{dX}{dt} &= k_6 \\left(\\frac{I}{\\phi_I + I} - X\\right)\n",
    "\\end{align}\n",
    "$$\n",
    "\n",
    "Which admits a saddle point at\n",
    "\n",
    "$$\n",
    "\\begin{align}\n",
    "I_{saddle} &= \\frac{k_3 K_e - k_4 K_p}{k_4 - k_3}\\\\\n",
    "E_{saddle} &= \\frac{k_1}{k_2}\\left( 1 - \\epsilon\\frac{X_{saddle}}{\\phi_X + X_{saddle}}\\right)(1 - I_{saddle})\\\\\n",
    "X_{saddle} &= \\frac{I_{saddle}}{\\phi_I + I_{saddle}}\n",
    "\\end{align}\n",
    "$$\n",
    "\n",
    "Numerically solve the stable and unstable manifolds of the saddle point and project the manifolds on the I-E plane.\n",
    "Overlay the stable and unstable manifolds of the original model in dashed lines.\n",
    "\n",
    "__Hints:__ \n",
    "1) There may be numerical instability when integrating backward in time starting from very close to the saddle.\n",
    "Try to start a bit further away from the saddle.\n",
    "2) `scipy.integrate.solve_ivp` ([more on it](https://docs.scipy.org/doc/scipy/reference/generated/scipy.integrate.solve_ivp.html)) provides a suite of ODE solvers, some of them better at solving _stiff_ problems than the `odeint` function.\n",
    "You can try them out if instability persists."
   ]
  },
  {
   "cell_type": "code",
   "execution_count": 11,
   "id": "59a28f56-b439-47cc-91a7-c7417194aa1c",
   "metadata": {},
   "outputs": [],
   "source": [
    "# your solution 3.6\n",
    "\n"
   ]
  },
  {
   "cell_type": "markdown",
   "id": "b208d82c-48bb-49ed-b037-6f65bdb9b1c5",
   "metadata": {},
   "source": [
    "I hope that you feel encouraged by how much of this PNAS paper YOU can reproduce just with the techniques that you've developed in the lab sessions\n",
    "and the knowledge you've learned in class.\n",
    "\n",
    "Congratulations! You've reached the end of Labs. I hope that you learned something and had some fun!"
   ]
  }
 ],
 "metadata": {
  "kernelspec": {
   "display_name": "Python 3 (ipykernel)",
   "language": "python",
   "name": "python3"
  },
  "language_info": {
   "codemirror_mode": {
    "name": "ipython",
    "version": 3
   },
   "file_extension": ".py",
   "mimetype": "text/x-python",
   "name": "python",
   "nbconvert_exporter": "python",
   "pygments_lexer": "ipython3",
   "version": "3.12.2"
  },
  "varInspector": {
   "cols": {
    "lenName": 16,
    "lenType": 16,
    "lenVar": 40
   },
   "kernels_config": {
    "python": {
     "delete_cmd_postfix": "",
     "delete_cmd_prefix": "del ",
     "library": "var_list.py",
     "varRefreshCmd": "print(var_dic_list())"
    },
    "r": {
     "delete_cmd_postfix": ") ",
     "delete_cmd_prefix": "rm(",
     "library": "var_list.r",
     "varRefreshCmd": "cat(var_dic_list()) "
    }
   },
   "types_to_exclude": [
    "module",
    "function",
    "builtin_function_or_method",
    "instance",
    "_Feature"
   ],
   "window_display": true
  }
 },
 "nbformat": 4,
 "nbformat_minor": 5
}
